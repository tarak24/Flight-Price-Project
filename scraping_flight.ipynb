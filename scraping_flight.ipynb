{
 "cells": [
  {
   "cell_type": "markdown",
   "id": "63653648",
   "metadata": {},
   "source": [
    "# Scrapping Ticket Prices from Yatra.com"
   ]
  },
  {
   "cell_type": "code",
   "execution_count": 19,
   "id": "94b91a91",
   "metadata": {},
   "outputs": [],
   "source": [
    "import selenium\n",
    "import pandas as pd\n",
    "from selenium import webdriver"
   ]
  },
  {
   "cell_type": "code",
   "execution_count": 63,
   "id": "f39cd605",
   "metadata": {},
   "outputs": [
    {
     "name": "stderr",
     "output_type": "stream",
     "text": [
      "<ipython-input-63-0af43046ad15>:1: DeprecationWarning: executable_path has been deprecated, please pass in a Service object\n",
      "  driver=webdriver.Chrome(r\"C:\\Users\\DELL\\Downloads\\chromedriver.exe\")\n"
     ]
    }
   ],
   "source": [
    "driver=webdriver.Chrome(r\"C:\\Users\\DELL\\Downloads\\chromedriver.exe\")"
   ]
  },
  {
   "cell_type": "code",
   "execution_count": 64,
   "id": "ef75bf3b",
   "metadata": {},
   "outputs": [],
   "source": [
    "driver.get('https://www.yatra.com/')"
   ]
  },
  {
   "cell_type": "code",
   "execution_count": 22,
   "id": "cd54ed95",
   "metadata": {},
   "outputs": [],
   "source": [
    "# Scraping prices of Delhi to Mumbai flights for 15th March\n",
    "url=\"https://flight.yatra.com/air-search-ui/dom2/trigger?type=O&viewName=normal&flexi=0&noOfSegments=1&origin=DEL&originCountry=IN&destination=BOM&destinationCountry=IN&flight_depart_date=15%2F03%2F2022&ADT=1&CHD=0&INF=0&class=Economy&source=fresco-home&unqvaldesktop=589539202600\""
   ]
  },
  {
   "cell_type": "code",
   "execution_count": 23,
   "id": "d60072fc",
   "metadata": {},
   "outputs": [],
   "source": [
    "driver.get(url)"
   ]
  },
  {
   "cell_type": "code",
   "execution_count": 24,
   "id": "5dadff4d",
   "metadata": {},
   "outputs": [],
   "source": [
    "airline=[]\n",
    "source=[]\n",
    "destination=[]\n",
    "dep_time=[]\n",
    "arr_time=[]\n",
    "no_of_stops=[]\n",
    "duration=[]\n",
    "price=[]\n",
    "date=[]"
   ]
  },
  {
   "cell_type": "code",
   "execution_count": 25,
   "id": "8aa2159e",
   "metadata": {},
   "outputs": [
    {
     "name": "stderr",
     "output_type": "stream",
     "text": [
      "<ipython-input-25-7d0bd17065b1>:1: DeprecationWarning: find_elements_by_* commands are deprecated. Please use find_elements() instead\n",
      "  airline_tags=driver.find_elements_by_xpath(\"/html/body/section[2]/section/section[2]/section[1]/div[2]/div[2]/div/div/div/div[2]/div[1]/div/div[2]/span\")\n",
      "<ipython-input-25-7d0bd17065b1>:5: DeprecationWarning: find_elements_by_* commands are deprecated. Please use find_elements() instead\n",
      "  source_tags=driver.find_elements_by_xpath(\"/html/body/section[2]/section/section[2]/section[1]/div[2]/div[2]/div/div/div/div[2]/div[2]/div/div/div/div/div[1]/div/div[1]/p\")\n",
      "<ipython-input-25-7d0bd17065b1>:9: DeprecationWarning: find_elements_by_* commands are deprecated. Please use find_elements() instead\n",
      "  destination_tags=driver.find_elements_by_xpath(\"/html/body/section[2]/section/section[2]/section[1]/div[2]/div[2]/div/div/div/div[2]/div[2]/div/div/div/div/div[1]/div/div[3]/p[2]\")\n",
      "<ipython-input-25-7d0bd17065b1>:13: DeprecationWarning: find_elements_by_* commands are deprecated. Please use find_elements() instead\n",
      "  deptime_tags=driver.find_elements_by_xpath(\"/html/body/section[2]/section/section[2]/section[1]/div[2]/div[2]/div/div/div/div[2]/div[2]/div/div/div/div/div[1]/div/div[1]/div/div\")\n",
      "<ipython-input-25-7d0bd17065b1>:17: DeprecationWarning: find_elements_by_* commands are deprecated. Please use find_elements() instead\n",
      "  arrtime_tags=driver.find_elements_by_xpath(\"/html/body/section[2]/section/section[2]/section[1]/div[2]/div[2]/div/div/div/div[2]/div[2]/div/div/div/div/div[1]/div/div[3]/p[1]\")\n",
      "<ipython-input-25-7d0bd17065b1>:21: DeprecationWarning: find_elements_by_* commands are deprecated. Please use find_elements() instead\n",
      "  nos_tags=driver.find_elements_by_xpath(\"/html/body/section[2]/section/section[2]/section[1]/div[2]/div[2]/div/div/div/div[2]/div[2]/div/div/div/div/div[2]/div/div/span\")\n",
      "<ipython-input-25-7d0bd17065b1>:25: DeprecationWarning: find_elements_by_* commands are deprecated. Please use find_elements() instead\n",
      "  dur_tags=driver.find_elements_by_xpath(\"/html/body/section[2]/section/section[2]/section[1]/div[2]/div[2]/div/div/div/div[2]/div[2]/div/div/div/div/div[2]/div/p\")\n",
      "<ipython-input-25-7d0bd17065b1>:29: DeprecationWarning: find_elements_by_* commands are deprecated. Please use find_elements() instead\n",
      "  price_tags=driver.find_elements_by_xpath(\"/html/body/section[2]/section/section[2]/section[1]/div[2]/div[2]/div/div/div/div[2]/div[4]/div/div[1]/div/label/div/div[2]\")\n"
     ]
    }
   ],
   "source": [
    "airline_tags=driver.find_elements_by_xpath(\"/html/body/section[2]/section/section[2]/section[1]/div[2]/div[2]/div/div/div/div[2]/div[1]/div/div[2]/span\")\n",
    "for i in airline_tags:\n",
    "    i=i.text\n",
    "    airline.append(i)\n",
    "source_tags=driver.find_elements_by_xpath(\"/html/body/section[2]/section/section[2]/section[1]/div[2]/div[2]/div/div/div/div[2]/div[2]/div/div/div/div/div[1]/div/div[1]/p\")\n",
    "for i in source_tags:\n",
    "    i=i.text\n",
    "    source.append(i)\n",
    "destination_tags=driver.find_elements_by_xpath(\"/html/body/section[2]/section/section[2]/section[1]/div[2]/div[2]/div/div/div/div[2]/div[2]/div/div/div/div/div[1]/div/div[3]/p[2]\")\n",
    "for i in destination_tags:\n",
    "    i=i.text\n",
    "    destination.append(i)\n",
    "deptime_tags=driver.find_elements_by_xpath(\"/html/body/section[2]/section/section[2]/section[1]/div[2]/div[2]/div/div/div/div[2]/div[2]/div/div/div/div/div[1]/div/div[1]/div/div\")\n",
    "for i in deptime_tags:\n",
    "    i=i.text\n",
    "    dep_time.append(i)\n",
    "arrtime_tags=driver.find_elements_by_xpath(\"/html/body/section[2]/section/section[2]/section[1]/div[2]/div[2]/div/div/div/div[2]/div[2]/div/div/div/div/div[1]/div/div[3]/p[1]\")\n",
    "for i in arrtime_tags:\n",
    "    i=i.text\n",
    "    arr_time.append(i)\n",
    "nos_tags=driver.find_elements_by_xpath(\"/html/body/section[2]/section/section[2]/section[1]/div[2]/div[2]/div/div/div/div[2]/div[2]/div/div/div/div/div[2]/div/div/span\")\n",
    "for i in nos_tags:\n",
    "    i=i.text\n",
    "    no_of_stops.append(i)\n",
    "dur_tags=driver.find_elements_by_xpath(\"/html/body/section[2]/section/section[2]/section[1]/div[2]/div[2]/div/div/div/div[2]/div[2]/div/div/div/div/div[2]/div/p\")\n",
    "for i in dur_tags:\n",
    "    i=i.text\n",
    "    duration.append(i)\n",
    "price_tags=driver.find_elements_by_xpath(\"/html/body/section[2]/section/section[2]/section[1]/div[2]/div[2]/div/div/div/div[2]/div[4]/div/div[1]/div/label/div/div[2]\")\n",
    "for i in price_tags:\n",
    "    i=i.text\n",
    "    price.append(i)\n",
    "    date.append('15-03-2022')"
   ]
  },
  {
   "cell_type": "code",
   "execution_count": 26,
   "id": "09d36440",
   "metadata": {},
   "outputs": [],
   "source": [
    "# # Scraping prices of Delhi to Mumbai flights for 22nd March\n",
    "url=\"https://flight.yatra.com/air-search-ui/dom2/trigger?ADT=1&CHD=0&INF=0&class=Economy&destination=BOM&destinationCountry=IN&flexi=0&flight_depart_date=22%2F03%2F2022&hb=0&noOfSegments=1&origin=DEL&originCountry=IN&type=O&unique=1341863385071&version=1.1&viewName=normal\""
   ]
  },
  {
   "cell_type": "code",
   "execution_count": 27,
   "id": "9debca74",
   "metadata": {},
   "outputs": [],
   "source": [
    "driver.get(url)"
   ]
  },
  {
   "cell_type": "code",
   "execution_count": 28,
   "id": "a7dfad57",
   "metadata": {},
   "outputs": [
    {
     "name": "stderr",
     "output_type": "stream",
     "text": [
      "<ipython-input-28-bbc04be1a72f>:1: DeprecationWarning: find_elements_by_* commands are deprecated. Please use find_elements() instead\n",
      "  airline_tags=driver.find_elements_by_xpath(\"/html/body/section[2]/section/section[2]/section[1]/div[2]/div[2]/div/div/div/div[2]/div[1]/div/div[2]/span\")\n",
      "<ipython-input-28-bbc04be1a72f>:5: DeprecationWarning: find_elements_by_* commands are deprecated. Please use find_elements() instead\n",
      "  source_tags=driver.find_elements_by_xpath(\"/html/body/section[2]/section/section[2]/section[1]/div[2]/div[2]/div/div/div/div[2]/div[2]/div/div/div/div/div[1]/div/div[1]/p\")\n",
      "<ipython-input-28-bbc04be1a72f>:9: DeprecationWarning: find_elements_by_* commands are deprecated. Please use find_elements() instead\n",
      "  destination_tags=driver.find_elements_by_xpath(\"/html/body/section[2]/section/section[2]/section[1]/div[2]/div[2]/div/div/div/div[2]/div[2]/div/div/div/div/div[1]/div/div[3]/p[2]\")\n",
      "<ipython-input-28-bbc04be1a72f>:13: DeprecationWarning: find_elements_by_* commands are deprecated. Please use find_elements() instead\n",
      "  deptime_tags=driver.find_elements_by_xpath(\"/html/body/section[2]/section/section[2]/section[1]/div[2]/div[2]/div/div/div/div[2]/div[2]/div/div/div/div/div[1]/div/div[1]/div/div\")\n",
      "<ipython-input-28-bbc04be1a72f>:17: DeprecationWarning: find_elements_by_* commands are deprecated. Please use find_elements() instead\n",
      "  arrtime_tags=driver.find_elements_by_xpath(\"/html/body/section[2]/section/section[2]/section[1]/div[2]/div[2]/div/div/div/div[2]/div[2]/div/div/div/div/div[1]/div/div[3]/p[1]\")\n",
      "<ipython-input-28-bbc04be1a72f>:21: DeprecationWarning: find_elements_by_* commands are deprecated. Please use find_elements() instead\n",
      "  nos_tags=driver.find_elements_by_xpath(\"/html/body/section[2]/section/section[2]/section[1]/div[2]/div[2]/div/div/div/div[2]/div[2]/div/div/div/div/div[2]/div/div/span\")\n",
      "<ipython-input-28-bbc04be1a72f>:25: DeprecationWarning: find_elements_by_* commands are deprecated. Please use find_elements() instead\n",
      "  dur_tags=driver.find_elements_by_xpath(\"/html/body/section[2]/section/section[2]/section[1]/div[2]/div[2]/div/div/div/div[2]/div[2]/div/div/div/div/div[2]/div/p\")\n",
      "<ipython-input-28-bbc04be1a72f>:29: DeprecationWarning: find_elements_by_* commands are deprecated. Please use find_elements() instead\n",
      "  price_tags=driver.find_elements_by_xpath(\"/html/body/section[2]/section/section[2]/section[1]/div[2]/div[2]/div/div/div/div[2]/div[4]/div/div[1]/div/label/div/div[2]\")\n"
     ]
    }
   ],
   "source": [
    "airline_tags=driver.find_elements_by_xpath(\"/html/body/section[2]/section/section[2]/section[1]/div[2]/div[2]/div/div/div/div[2]/div[1]/div/div[2]/span\")\n",
    "for i in airline_tags:\n",
    "    i=i.text\n",
    "    airline.append(i)\n",
    "source_tags=driver.find_elements_by_xpath(\"/html/body/section[2]/section/section[2]/section[1]/div[2]/div[2]/div/div/div/div[2]/div[2]/div/div/div/div/div[1]/div/div[1]/p\")\n",
    "for i in source_tags:\n",
    "    i=i.text\n",
    "    source.append(i)\n",
    "destination_tags=driver.find_elements_by_xpath(\"/html/body/section[2]/section/section[2]/section[1]/div[2]/div[2]/div/div/div/div[2]/div[2]/div/div/div/div/div[1]/div/div[3]/p[2]\")\n",
    "for i in destination_tags:\n",
    "    i=i.text\n",
    "    destination.append(i)\n",
    "deptime_tags=driver.find_elements_by_xpath(\"/html/body/section[2]/section/section[2]/section[1]/div[2]/div[2]/div/div/div/div[2]/div[2]/div/div/div/div/div[1]/div/div[1]/div/div\")\n",
    "for i in deptime_tags:\n",
    "    i=i.text\n",
    "    dep_time.append(i)\n",
    "arrtime_tags=driver.find_elements_by_xpath(\"/html/body/section[2]/section/section[2]/section[1]/div[2]/div[2]/div/div/div/div[2]/div[2]/div/div/div/div/div[1]/div/div[3]/p[1]\")\n",
    "for i in arrtime_tags:\n",
    "    i=i.text\n",
    "    arr_time.append(i)\n",
    "nos_tags=driver.find_elements_by_xpath(\"/html/body/section[2]/section/section[2]/section[1]/div[2]/div[2]/div/div/div/div[2]/div[2]/div/div/div/div/div[2]/div/div/span\")\n",
    "for i in nos_tags:\n",
    "    i=i.text\n",
    "    no_of_stops.append(i)\n",
    "dur_tags=driver.find_elements_by_xpath(\"/html/body/section[2]/section/section[2]/section[1]/div[2]/div[2]/div/div/div/div[2]/div[2]/div/div/div/div/div[2]/div/p\")\n",
    "for i in dur_tags:\n",
    "    i=i.text\n",
    "    duration.append(i)\n",
    "price_tags=driver.find_elements_by_xpath(\"/html/body/section[2]/section/section[2]/section[1]/div[2]/div[2]/div/div/div/div[2]/div[4]/div/div[1]/div/label/div/div[2]\")\n",
    "for i in price_tags:\n",
    "    i=i.text\n",
    "    price.append(i)\n",
    "    date.append('22-03-2022')"
   ]
  },
  {
   "cell_type": "code",
   "execution_count": 30,
   "id": "e4164f70",
   "metadata": {},
   "outputs": [],
   "source": [
    "# Scraping prices of Delhi to Kolkata flights for 15th March\n",
    "url=\"https://flight.yatra.com/air-search-ui/dom2/trigger?ADT=1&CHD=0&INF=0&class=Economy&destination=CCU&destinationCountry=IN&flexi=0&flight_depart_date=15%2F03%2F2022&hb=0&noOfSegments=1&origin=DEL&originCountry=IN&type=O&unique=326222262619&version=1.1&viewName=normal\""
   ]
  },
  {
   "cell_type": "code",
   "execution_count": 31,
   "id": "0006945b",
   "metadata": {},
   "outputs": [],
   "source": [
    "driver.get(url)"
   ]
  },
  {
   "cell_type": "code",
   "execution_count": 32,
   "id": "51e15990",
   "metadata": {},
   "outputs": [
    {
     "name": "stderr",
     "output_type": "stream",
     "text": [
      "<ipython-input-32-7d0bd17065b1>:1: DeprecationWarning: find_elements_by_* commands are deprecated. Please use find_elements() instead\n",
      "  airline_tags=driver.find_elements_by_xpath(\"/html/body/section[2]/section/section[2]/section[1]/div[2]/div[2]/div/div/div/div[2]/div[1]/div/div[2]/span\")\n",
      "<ipython-input-32-7d0bd17065b1>:5: DeprecationWarning: find_elements_by_* commands are deprecated. Please use find_elements() instead\n",
      "  source_tags=driver.find_elements_by_xpath(\"/html/body/section[2]/section/section[2]/section[1]/div[2]/div[2]/div/div/div/div[2]/div[2]/div/div/div/div/div[1]/div/div[1]/p\")\n",
      "<ipython-input-32-7d0bd17065b1>:9: DeprecationWarning: find_elements_by_* commands are deprecated. Please use find_elements() instead\n",
      "  destination_tags=driver.find_elements_by_xpath(\"/html/body/section[2]/section/section[2]/section[1]/div[2]/div[2]/div/div/div/div[2]/div[2]/div/div/div/div/div[1]/div/div[3]/p[2]\")\n",
      "<ipython-input-32-7d0bd17065b1>:13: DeprecationWarning: find_elements_by_* commands are deprecated. Please use find_elements() instead\n",
      "  deptime_tags=driver.find_elements_by_xpath(\"/html/body/section[2]/section/section[2]/section[1]/div[2]/div[2]/div/div/div/div[2]/div[2]/div/div/div/div/div[1]/div/div[1]/div/div\")\n",
      "<ipython-input-32-7d0bd17065b1>:17: DeprecationWarning: find_elements_by_* commands are deprecated. Please use find_elements() instead\n",
      "  arrtime_tags=driver.find_elements_by_xpath(\"/html/body/section[2]/section/section[2]/section[1]/div[2]/div[2]/div/div/div/div[2]/div[2]/div/div/div/div/div[1]/div/div[3]/p[1]\")\n",
      "<ipython-input-32-7d0bd17065b1>:21: DeprecationWarning: find_elements_by_* commands are deprecated. Please use find_elements() instead\n",
      "  nos_tags=driver.find_elements_by_xpath(\"/html/body/section[2]/section/section[2]/section[1]/div[2]/div[2]/div/div/div/div[2]/div[2]/div/div/div/div/div[2]/div/div/span\")\n",
      "<ipython-input-32-7d0bd17065b1>:25: DeprecationWarning: find_elements_by_* commands are deprecated. Please use find_elements() instead\n",
      "  dur_tags=driver.find_elements_by_xpath(\"/html/body/section[2]/section/section[2]/section[1]/div[2]/div[2]/div/div/div/div[2]/div[2]/div/div/div/div/div[2]/div/p\")\n",
      "<ipython-input-32-7d0bd17065b1>:29: DeprecationWarning: find_elements_by_* commands are deprecated. Please use find_elements() instead\n",
      "  price_tags=driver.find_elements_by_xpath(\"/html/body/section[2]/section/section[2]/section[1]/div[2]/div[2]/div/div/div/div[2]/div[4]/div/div[1]/div/label/div/div[2]\")\n"
     ]
    }
   ],
   "source": [
    "airline_tags=driver.find_elements_by_xpath(\"/html/body/section[2]/section/section[2]/section[1]/div[2]/div[2]/div/div/div/div[2]/div[1]/div/div[2]/span\")\n",
    "for i in airline_tags:\n",
    "    i=i.text\n",
    "    airline.append(i)\n",
    "source_tags=driver.find_elements_by_xpath(\"/html/body/section[2]/section/section[2]/section[1]/div[2]/div[2]/div/div/div/div[2]/div[2]/div/div/div/div/div[1]/div/div[1]/p\")\n",
    "for i in source_tags:\n",
    "    i=i.text\n",
    "    source.append(i)\n",
    "destination_tags=driver.find_elements_by_xpath(\"/html/body/section[2]/section/section[2]/section[1]/div[2]/div[2]/div/div/div/div[2]/div[2]/div/div/div/div/div[1]/div/div[3]/p[2]\")\n",
    "for i in destination_tags:\n",
    "    i=i.text\n",
    "    destination.append(i)\n",
    "deptime_tags=driver.find_elements_by_xpath(\"/html/body/section[2]/section/section[2]/section[1]/div[2]/div[2]/div/div/div/div[2]/div[2]/div/div/div/div/div[1]/div/div[1]/div/div\")\n",
    "for i in deptime_tags:\n",
    "    i=i.text\n",
    "    dep_time.append(i)\n",
    "arrtime_tags=driver.find_elements_by_xpath(\"/html/body/section[2]/section/section[2]/section[1]/div[2]/div[2]/div/div/div/div[2]/div[2]/div/div/div/div/div[1]/div/div[3]/p[1]\")\n",
    "for i in arrtime_tags:\n",
    "    i=i.text\n",
    "    arr_time.append(i)\n",
    "nos_tags=driver.find_elements_by_xpath(\"/html/body/section[2]/section/section[2]/section[1]/div[2]/div[2]/div/div/div/div[2]/div[2]/div/div/div/div/div[2]/div/div/span\")\n",
    "for i in nos_tags:\n",
    "    i=i.text\n",
    "    no_of_stops.append(i)\n",
    "dur_tags=driver.find_elements_by_xpath(\"/html/body/section[2]/section/section[2]/section[1]/div[2]/div[2]/div/div/div/div[2]/div[2]/div/div/div/div/div[2]/div/p\")\n",
    "for i in dur_tags:\n",
    "    i=i.text\n",
    "    duration.append(i)\n",
    "price_tags=driver.find_elements_by_xpath(\"/html/body/section[2]/section/section[2]/section[1]/div[2]/div[2]/div/div/div/div[2]/div[4]/div/div[1]/div/label/div/div[2]\")\n",
    "for i in price_tags:\n",
    "    i=i.text\n",
    "    price.append(i)\n",
    "    date.append('15-03-2022')"
   ]
  },
  {
   "cell_type": "code",
   "execution_count": 33,
   "id": "388d6015",
   "metadata": {},
   "outputs": [],
   "source": [
    "# Scraping prices of Delhi to Kolkata flights for 22nd March\n",
    "url=\"https://flight.yatra.com/air-search-ui/dom2/trigger?ADT=1&CHD=0&INF=0&class=Economy&destination=CCU&destinationCountry=IN&flexi=0&flight_depart_date=22%2F03%2F2022&hb=0&noOfSegments=1&origin=DEL&originCountry=IN&type=O&unique=1085157401159&version=1.1&viewName=normal\""
   ]
  },
  {
   "cell_type": "code",
   "execution_count": 34,
   "id": "ea6057d3",
   "metadata": {},
   "outputs": [],
   "source": [
    "driver.get(url)"
   ]
  },
  {
   "cell_type": "code",
   "execution_count": 35,
   "id": "7640629f",
   "metadata": {},
   "outputs": [
    {
     "name": "stderr",
     "output_type": "stream",
     "text": [
      "<ipython-input-35-bbc04be1a72f>:1: DeprecationWarning: find_elements_by_* commands are deprecated. Please use find_elements() instead\n",
      "  airline_tags=driver.find_elements_by_xpath(\"/html/body/section[2]/section/section[2]/section[1]/div[2]/div[2]/div/div/div/div[2]/div[1]/div/div[2]/span\")\n",
      "<ipython-input-35-bbc04be1a72f>:5: DeprecationWarning: find_elements_by_* commands are deprecated. Please use find_elements() instead\n",
      "  source_tags=driver.find_elements_by_xpath(\"/html/body/section[2]/section/section[2]/section[1]/div[2]/div[2]/div/div/div/div[2]/div[2]/div/div/div/div/div[1]/div/div[1]/p\")\n",
      "<ipython-input-35-bbc04be1a72f>:9: DeprecationWarning: find_elements_by_* commands are deprecated. Please use find_elements() instead\n",
      "  destination_tags=driver.find_elements_by_xpath(\"/html/body/section[2]/section/section[2]/section[1]/div[2]/div[2]/div/div/div/div[2]/div[2]/div/div/div/div/div[1]/div/div[3]/p[2]\")\n",
      "<ipython-input-35-bbc04be1a72f>:13: DeprecationWarning: find_elements_by_* commands are deprecated. Please use find_elements() instead\n",
      "  deptime_tags=driver.find_elements_by_xpath(\"/html/body/section[2]/section/section[2]/section[1]/div[2]/div[2]/div/div/div/div[2]/div[2]/div/div/div/div/div[1]/div/div[1]/div/div\")\n",
      "<ipython-input-35-bbc04be1a72f>:17: DeprecationWarning: find_elements_by_* commands are deprecated. Please use find_elements() instead\n",
      "  arrtime_tags=driver.find_elements_by_xpath(\"/html/body/section[2]/section/section[2]/section[1]/div[2]/div[2]/div/div/div/div[2]/div[2]/div/div/div/div/div[1]/div/div[3]/p[1]\")\n",
      "<ipython-input-35-bbc04be1a72f>:21: DeprecationWarning: find_elements_by_* commands are deprecated. Please use find_elements() instead\n",
      "  nos_tags=driver.find_elements_by_xpath(\"/html/body/section[2]/section/section[2]/section[1]/div[2]/div[2]/div/div/div/div[2]/div[2]/div/div/div/div/div[2]/div/div/span\")\n",
      "<ipython-input-35-bbc04be1a72f>:25: DeprecationWarning: find_elements_by_* commands are deprecated. Please use find_elements() instead\n",
      "  dur_tags=driver.find_elements_by_xpath(\"/html/body/section[2]/section/section[2]/section[1]/div[2]/div[2]/div/div/div/div[2]/div[2]/div/div/div/div/div[2]/div/p\")\n",
      "<ipython-input-35-bbc04be1a72f>:29: DeprecationWarning: find_elements_by_* commands are deprecated. Please use find_elements() instead\n",
      "  price_tags=driver.find_elements_by_xpath(\"/html/body/section[2]/section/section[2]/section[1]/div[2]/div[2]/div/div/div/div[2]/div[4]/div/div[1]/div/label/div/div[2]\")\n"
     ]
    }
   ],
   "source": [
    "airline_tags=driver.find_elements_by_xpath(\"/html/body/section[2]/section/section[2]/section[1]/div[2]/div[2]/div/div/div/div[2]/div[1]/div/div[2]/span\")\n",
    "for i in airline_tags:\n",
    "    i=i.text\n",
    "    airline.append(i)\n",
    "source_tags=driver.find_elements_by_xpath(\"/html/body/section[2]/section/section[2]/section[1]/div[2]/div[2]/div/div/div/div[2]/div[2]/div/div/div/div/div[1]/div/div[1]/p\")\n",
    "for i in source_tags:\n",
    "    i=i.text\n",
    "    source.append(i)\n",
    "destination_tags=driver.find_elements_by_xpath(\"/html/body/section[2]/section/section[2]/section[1]/div[2]/div[2]/div/div/div/div[2]/div[2]/div/div/div/div/div[1]/div/div[3]/p[2]\")\n",
    "for i in destination_tags:\n",
    "    i=i.text\n",
    "    destination.append(i)\n",
    "deptime_tags=driver.find_elements_by_xpath(\"/html/body/section[2]/section/section[2]/section[1]/div[2]/div[2]/div/div/div/div[2]/div[2]/div/div/div/div/div[1]/div/div[1]/div/div\")\n",
    "for i in deptime_tags:\n",
    "    i=i.text\n",
    "    dep_time.append(i)\n",
    "arrtime_tags=driver.find_elements_by_xpath(\"/html/body/section[2]/section/section[2]/section[1]/div[2]/div[2]/div/div/div/div[2]/div[2]/div/div/div/div/div[1]/div/div[3]/p[1]\")\n",
    "for i in arrtime_tags:\n",
    "    i=i.text\n",
    "    arr_time.append(i)\n",
    "nos_tags=driver.find_elements_by_xpath(\"/html/body/section[2]/section/section[2]/section[1]/div[2]/div[2]/div/div/div/div[2]/div[2]/div/div/div/div/div[2]/div/div/span\")\n",
    "for i in nos_tags:\n",
    "    i=i.text\n",
    "    no_of_stops.append(i)\n",
    "dur_tags=driver.find_elements_by_xpath(\"/html/body/section[2]/section/section[2]/section[1]/div[2]/div[2]/div/div/div/div[2]/div[2]/div/div/div/div/div[2]/div/p\")\n",
    "for i in dur_tags:\n",
    "    i=i.text\n",
    "    duration.append(i)\n",
    "price_tags=driver.find_elements_by_xpath(\"/html/body/section[2]/section/section[2]/section[1]/div[2]/div[2]/div/div/div/div[2]/div[4]/div/div[1]/div/label/div/div[2]\")\n",
    "for i in price_tags:\n",
    "    i=i.text\n",
    "    price.append(i)\n",
    "    date.append('22-03-2022')"
   ]
  },
  {
   "cell_type": "code",
   "execution_count": 38,
   "id": "0870b986",
   "metadata": {},
   "outputs": [],
   "source": [
    "# Scraping prices of Delhi to Hyderabad flights for 15th March\n",
    "url=\"https://flight.yatra.com/air-search-ui/dom2/trigger?ADT=1&CHD=0&INF=0&class=Economy&destination=HYD&destinationCountry=IN&flexi=0&flight_depart_date=15%2F03%2F2022&hb=0&noOfSegments=1&origin=DEL&originCountry=IN&type=O&unique=77971468455&version=1.1&viewName=normal\""
   ]
  },
  {
   "cell_type": "code",
   "execution_count": 39,
   "id": "257d0f15",
   "metadata": {},
   "outputs": [],
   "source": [
    "driver.get(url)"
   ]
  },
  {
   "cell_type": "code",
   "execution_count": 40,
   "id": "e258ce20",
   "metadata": {},
   "outputs": [
    {
     "name": "stderr",
     "output_type": "stream",
     "text": [
      "<ipython-input-40-7d0bd17065b1>:1: DeprecationWarning: find_elements_by_* commands are deprecated. Please use find_elements() instead\n",
      "  airline_tags=driver.find_elements_by_xpath(\"/html/body/section[2]/section/section[2]/section[1]/div[2]/div[2]/div/div/div/div[2]/div[1]/div/div[2]/span\")\n",
      "<ipython-input-40-7d0bd17065b1>:5: DeprecationWarning: find_elements_by_* commands are deprecated. Please use find_elements() instead\n",
      "  source_tags=driver.find_elements_by_xpath(\"/html/body/section[2]/section/section[2]/section[1]/div[2]/div[2]/div/div/div/div[2]/div[2]/div/div/div/div/div[1]/div/div[1]/p\")\n",
      "<ipython-input-40-7d0bd17065b1>:9: DeprecationWarning: find_elements_by_* commands are deprecated. Please use find_elements() instead\n",
      "  destination_tags=driver.find_elements_by_xpath(\"/html/body/section[2]/section/section[2]/section[1]/div[2]/div[2]/div/div/div/div[2]/div[2]/div/div/div/div/div[1]/div/div[3]/p[2]\")\n",
      "<ipython-input-40-7d0bd17065b1>:13: DeprecationWarning: find_elements_by_* commands are deprecated. Please use find_elements() instead\n",
      "  deptime_tags=driver.find_elements_by_xpath(\"/html/body/section[2]/section/section[2]/section[1]/div[2]/div[2]/div/div/div/div[2]/div[2]/div/div/div/div/div[1]/div/div[1]/div/div\")\n",
      "<ipython-input-40-7d0bd17065b1>:17: DeprecationWarning: find_elements_by_* commands are deprecated. Please use find_elements() instead\n",
      "  arrtime_tags=driver.find_elements_by_xpath(\"/html/body/section[2]/section/section[2]/section[1]/div[2]/div[2]/div/div/div/div[2]/div[2]/div/div/div/div/div[1]/div/div[3]/p[1]\")\n",
      "<ipython-input-40-7d0bd17065b1>:21: DeprecationWarning: find_elements_by_* commands are deprecated. Please use find_elements() instead\n",
      "  nos_tags=driver.find_elements_by_xpath(\"/html/body/section[2]/section/section[2]/section[1]/div[2]/div[2]/div/div/div/div[2]/div[2]/div/div/div/div/div[2]/div/div/span\")\n",
      "<ipython-input-40-7d0bd17065b1>:25: DeprecationWarning: find_elements_by_* commands are deprecated. Please use find_elements() instead\n",
      "  dur_tags=driver.find_elements_by_xpath(\"/html/body/section[2]/section/section[2]/section[1]/div[2]/div[2]/div/div/div/div[2]/div[2]/div/div/div/div/div[2]/div/p\")\n",
      "<ipython-input-40-7d0bd17065b1>:29: DeprecationWarning: find_elements_by_* commands are deprecated. Please use find_elements() instead\n",
      "  price_tags=driver.find_elements_by_xpath(\"/html/body/section[2]/section/section[2]/section[1]/div[2]/div[2]/div/div/div/div[2]/div[4]/div/div[1]/div/label/div/div[2]\")\n"
     ]
    }
   ],
   "source": [
    "airline_tags=driver.find_elements_by_xpath(\"/html/body/section[2]/section/section[2]/section[1]/div[2]/div[2]/div/div/div/div[2]/div[1]/div/div[2]/span\")\n",
    "for i in airline_tags:\n",
    "    i=i.text\n",
    "    airline.append(i)\n",
    "source_tags=driver.find_elements_by_xpath(\"/html/body/section[2]/section/section[2]/section[1]/div[2]/div[2]/div/div/div/div[2]/div[2]/div/div/div/div/div[1]/div/div[1]/p\")\n",
    "for i in source_tags:\n",
    "    i=i.text\n",
    "    source.append(i)\n",
    "destination_tags=driver.find_elements_by_xpath(\"/html/body/section[2]/section/section[2]/section[1]/div[2]/div[2]/div/div/div/div[2]/div[2]/div/div/div/div/div[1]/div/div[3]/p[2]\")\n",
    "for i in destination_tags:\n",
    "    i=i.text\n",
    "    destination.append(i)\n",
    "deptime_tags=driver.find_elements_by_xpath(\"/html/body/section[2]/section/section[2]/section[1]/div[2]/div[2]/div/div/div/div[2]/div[2]/div/div/div/div/div[1]/div/div[1]/div/div\")\n",
    "for i in deptime_tags:\n",
    "    i=i.text\n",
    "    dep_time.append(i)\n",
    "arrtime_tags=driver.find_elements_by_xpath(\"/html/body/section[2]/section/section[2]/section[1]/div[2]/div[2]/div/div/div/div[2]/div[2]/div/div/div/div/div[1]/div/div[3]/p[1]\")\n",
    "for i in arrtime_tags:\n",
    "    i=i.text\n",
    "    arr_time.append(i)\n",
    "nos_tags=driver.find_elements_by_xpath(\"/html/body/section[2]/section/section[2]/section[1]/div[2]/div[2]/div/div/div/div[2]/div[2]/div/div/div/div/div[2]/div/div/span\")\n",
    "for i in nos_tags:\n",
    "    i=i.text\n",
    "    no_of_stops.append(i)\n",
    "dur_tags=driver.find_elements_by_xpath(\"/html/body/section[2]/section/section[2]/section[1]/div[2]/div[2]/div/div/div/div[2]/div[2]/div/div/div/div/div[2]/div/p\")\n",
    "for i in dur_tags:\n",
    "    i=i.text\n",
    "    duration.append(i)\n",
    "price_tags=driver.find_elements_by_xpath(\"/html/body/section[2]/section/section[2]/section[1]/div[2]/div[2]/div/div/div/div[2]/div[4]/div/div[1]/div/label/div/div[2]\")\n",
    "for i in price_tags:\n",
    "    i=i.text\n",
    "    price.append(i)\n",
    "    date.append('15-03-2022')"
   ]
  },
  {
   "cell_type": "code",
   "execution_count": 41,
   "id": "d29ffc1c",
   "metadata": {},
   "outputs": [],
   "source": [
    "# Scraping prices of Delhi to Hyderabad flights for 22nd March\n",
    "url=\"https://flight.yatra.com/air-search-ui/dom2/trigger?ADT=1&CHD=0&INF=0&class=Economy&destination=HYD&destinationCountry=IN&flexi=0&flight_depart_date=15%2F03%2F2022&hb=0&noOfSegments=1&origin=DEL&originCountry=IN&type=O&unique=77971468455&version=1.1&viewName=normal\""
   ]
  },
  {
   "cell_type": "code",
   "execution_count": 42,
   "id": "aee3102c",
   "metadata": {},
   "outputs": [],
   "source": [
    "driver.get(url)"
   ]
  },
  {
   "cell_type": "code",
   "execution_count": 43,
   "id": "f5830e19",
   "metadata": {},
   "outputs": [
    {
     "name": "stderr",
     "output_type": "stream",
     "text": [
      "<ipython-input-43-bbc04be1a72f>:1: DeprecationWarning: find_elements_by_* commands are deprecated. Please use find_elements() instead\n",
      "  airline_tags=driver.find_elements_by_xpath(\"/html/body/section[2]/section/section[2]/section[1]/div[2]/div[2]/div/div/div/div[2]/div[1]/div/div[2]/span\")\n",
      "<ipython-input-43-bbc04be1a72f>:5: DeprecationWarning: find_elements_by_* commands are deprecated. Please use find_elements() instead\n",
      "  source_tags=driver.find_elements_by_xpath(\"/html/body/section[2]/section/section[2]/section[1]/div[2]/div[2]/div/div/div/div[2]/div[2]/div/div/div/div/div[1]/div/div[1]/p\")\n",
      "<ipython-input-43-bbc04be1a72f>:9: DeprecationWarning: find_elements_by_* commands are deprecated. Please use find_elements() instead\n",
      "  destination_tags=driver.find_elements_by_xpath(\"/html/body/section[2]/section/section[2]/section[1]/div[2]/div[2]/div/div/div/div[2]/div[2]/div/div/div/div/div[1]/div/div[3]/p[2]\")\n",
      "<ipython-input-43-bbc04be1a72f>:13: DeprecationWarning: find_elements_by_* commands are deprecated. Please use find_elements() instead\n",
      "  deptime_tags=driver.find_elements_by_xpath(\"/html/body/section[2]/section/section[2]/section[1]/div[2]/div[2]/div/div/div/div[2]/div[2]/div/div/div/div/div[1]/div/div[1]/div/div\")\n",
      "<ipython-input-43-bbc04be1a72f>:17: DeprecationWarning: find_elements_by_* commands are deprecated. Please use find_elements() instead\n",
      "  arrtime_tags=driver.find_elements_by_xpath(\"/html/body/section[2]/section/section[2]/section[1]/div[2]/div[2]/div/div/div/div[2]/div[2]/div/div/div/div/div[1]/div/div[3]/p[1]\")\n",
      "<ipython-input-43-bbc04be1a72f>:21: DeprecationWarning: find_elements_by_* commands are deprecated. Please use find_elements() instead\n",
      "  nos_tags=driver.find_elements_by_xpath(\"/html/body/section[2]/section/section[2]/section[1]/div[2]/div[2]/div/div/div/div[2]/div[2]/div/div/div/div/div[2]/div/div/span\")\n",
      "<ipython-input-43-bbc04be1a72f>:25: DeprecationWarning: find_elements_by_* commands are deprecated. Please use find_elements() instead\n",
      "  dur_tags=driver.find_elements_by_xpath(\"/html/body/section[2]/section/section[2]/section[1]/div[2]/div[2]/div/div/div/div[2]/div[2]/div/div/div/div/div[2]/div/p\")\n",
      "<ipython-input-43-bbc04be1a72f>:29: DeprecationWarning: find_elements_by_* commands are deprecated. Please use find_elements() instead\n",
      "  price_tags=driver.find_elements_by_xpath(\"/html/body/section[2]/section/section[2]/section[1]/div[2]/div[2]/div/div/div/div[2]/div[4]/div/div[1]/div/label/div/div[2]\")\n"
     ]
    }
   ],
   "source": [
    "airline_tags=driver.find_elements_by_xpath(\"/html/body/section[2]/section/section[2]/section[1]/div[2]/div[2]/div/div/div/div[2]/div[1]/div/div[2]/span\")\n",
    "for i in airline_tags:\n",
    "    i=i.text\n",
    "    airline.append(i)\n",
    "source_tags=driver.find_elements_by_xpath(\"/html/body/section[2]/section/section[2]/section[1]/div[2]/div[2]/div/div/div/div[2]/div[2]/div/div/div/div/div[1]/div/div[1]/p\")\n",
    "for i in source_tags:\n",
    "    i=i.text\n",
    "    source.append(i)\n",
    "destination_tags=driver.find_elements_by_xpath(\"/html/body/section[2]/section/section[2]/section[1]/div[2]/div[2]/div/div/div/div[2]/div[2]/div/div/div/div/div[1]/div/div[3]/p[2]\")\n",
    "for i in destination_tags:\n",
    "    i=i.text\n",
    "    destination.append(i)\n",
    "deptime_tags=driver.find_elements_by_xpath(\"/html/body/section[2]/section/section[2]/section[1]/div[2]/div[2]/div/div/div/div[2]/div[2]/div/div/div/div/div[1]/div/div[1]/div/div\")\n",
    "for i in deptime_tags:\n",
    "    i=i.text\n",
    "    dep_time.append(i)\n",
    "arrtime_tags=driver.find_elements_by_xpath(\"/html/body/section[2]/section/section[2]/section[1]/div[2]/div[2]/div/div/div/div[2]/div[2]/div/div/div/div/div[1]/div/div[3]/p[1]\")\n",
    "for i in arrtime_tags:\n",
    "    i=i.text\n",
    "    arr_time.append(i)\n",
    "nos_tags=driver.find_elements_by_xpath(\"/html/body/section[2]/section/section[2]/section[1]/div[2]/div[2]/div/div/div/div[2]/div[2]/div/div/div/div/div[2]/div/div/span\")\n",
    "for i in nos_tags:\n",
    "    i=i.text\n",
    "    no_of_stops.append(i)\n",
    "dur_tags=driver.find_elements_by_xpath(\"/html/body/section[2]/section/section[2]/section[1]/div[2]/div[2]/div/div/div/div[2]/div[2]/div/div/div/div/div[2]/div/p\")\n",
    "for i in dur_tags:\n",
    "    i=i.text\n",
    "    duration.append(i)\n",
    "price_tags=driver.find_elements_by_xpath(\"/html/body/section[2]/section/section[2]/section[1]/div[2]/div[2]/div/div/div/div[2]/div[4]/div/div[1]/div/label/div/div[2]\")\n",
    "for i in price_tags:\n",
    "    i=i.text\n",
    "    price.append(i)\n",
    "    date.append('22-03-2022')"
   ]
  },
  {
   "cell_type": "code",
   "execution_count": 44,
   "id": "0bddcfc3",
   "metadata": {},
   "outputs": [],
   "source": [
    "# Scraping prices of Delhi to Bangalore flights for 15th March\n",
    "url=\"https://flight.yatra.com/air-search-ui/dom2/trigger?ADT=1&CHD=0&INF=0&class=Economy&destination=BLR&destinationCountry=IN&flexi=0&flight_depart_date=15%2F03%2F2022&hb=0&noOfSegments=1&origin=DEL&originCountry=IN&type=O&unique=1473961831005&version=1.1&viewName=normal\""
   ]
  },
  {
   "cell_type": "code",
   "execution_count": 45,
   "id": "88269e0a",
   "metadata": {},
   "outputs": [],
   "source": [
    "driver.get(url)"
   ]
  },
  {
   "cell_type": "code",
   "execution_count": 46,
   "id": "e1893eda",
   "metadata": {},
   "outputs": [
    {
     "name": "stderr",
     "output_type": "stream",
     "text": [
      "<ipython-input-46-7d0bd17065b1>:1: DeprecationWarning: find_elements_by_* commands are deprecated. Please use find_elements() instead\n",
      "  airline_tags=driver.find_elements_by_xpath(\"/html/body/section[2]/section/section[2]/section[1]/div[2]/div[2]/div/div/div/div[2]/div[1]/div/div[2]/span\")\n",
      "<ipython-input-46-7d0bd17065b1>:5: DeprecationWarning: find_elements_by_* commands are deprecated. Please use find_elements() instead\n",
      "  source_tags=driver.find_elements_by_xpath(\"/html/body/section[2]/section/section[2]/section[1]/div[2]/div[2]/div/div/div/div[2]/div[2]/div/div/div/div/div[1]/div/div[1]/p\")\n",
      "<ipython-input-46-7d0bd17065b1>:9: DeprecationWarning: find_elements_by_* commands are deprecated. Please use find_elements() instead\n",
      "  destination_tags=driver.find_elements_by_xpath(\"/html/body/section[2]/section/section[2]/section[1]/div[2]/div[2]/div/div/div/div[2]/div[2]/div/div/div/div/div[1]/div/div[3]/p[2]\")\n",
      "<ipython-input-46-7d0bd17065b1>:13: DeprecationWarning: find_elements_by_* commands are deprecated. Please use find_elements() instead\n",
      "  deptime_tags=driver.find_elements_by_xpath(\"/html/body/section[2]/section/section[2]/section[1]/div[2]/div[2]/div/div/div/div[2]/div[2]/div/div/div/div/div[1]/div/div[1]/div/div\")\n",
      "<ipython-input-46-7d0bd17065b1>:17: DeprecationWarning: find_elements_by_* commands are deprecated. Please use find_elements() instead\n",
      "  arrtime_tags=driver.find_elements_by_xpath(\"/html/body/section[2]/section/section[2]/section[1]/div[2]/div[2]/div/div/div/div[2]/div[2]/div/div/div/div/div[1]/div/div[3]/p[1]\")\n",
      "<ipython-input-46-7d0bd17065b1>:21: DeprecationWarning: find_elements_by_* commands are deprecated. Please use find_elements() instead\n",
      "  nos_tags=driver.find_elements_by_xpath(\"/html/body/section[2]/section/section[2]/section[1]/div[2]/div[2]/div/div/div/div[2]/div[2]/div/div/div/div/div[2]/div/div/span\")\n",
      "<ipython-input-46-7d0bd17065b1>:25: DeprecationWarning: find_elements_by_* commands are deprecated. Please use find_elements() instead\n",
      "  dur_tags=driver.find_elements_by_xpath(\"/html/body/section[2]/section/section[2]/section[1]/div[2]/div[2]/div/div/div/div[2]/div[2]/div/div/div/div/div[2]/div/p\")\n",
      "<ipython-input-46-7d0bd17065b1>:29: DeprecationWarning: find_elements_by_* commands are deprecated. Please use find_elements() instead\n",
      "  price_tags=driver.find_elements_by_xpath(\"/html/body/section[2]/section/section[2]/section[1]/div[2]/div[2]/div/div/div/div[2]/div[4]/div/div[1]/div/label/div/div[2]\")\n"
     ]
    }
   ],
   "source": [
    "airline_tags=driver.find_elements_by_xpath(\"/html/body/section[2]/section/section[2]/section[1]/div[2]/div[2]/div/div/div/div[2]/div[1]/div/div[2]/span\")\n",
    "for i in airline_tags:\n",
    "    i=i.text\n",
    "    airline.append(i)\n",
    "source_tags=driver.find_elements_by_xpath(\"/html/body/section[2]/section/section[2]/section[1]/div[2]/div[2]/div/div/div/div[2]/div[2]/div/div/div/div/div[1]/div/div[1]/p\")\n",
    "for i in source_tags:\n",
    "    i=i.text\n",
    "    source.append(i)\n",
    "destination_tags=driver.find_elements_by_xpath(\"/html/body/section[2]/section/section[2]/section[1]/div[2]/div[2]/div/div/div/div[2]/div[2]/div/div/div/div/div[1]/div/div[3]/p[2]\")\n",
    "for i in destination_tags:\n",
    "    i=i.text\n",
    "    destination.append(i)\n",
    "deptime_tags=driver.find_elements_by_xpath(\"/html/body/section[2]/section/section[2]/section[1]/div[2]/div[2]/div/div/div/div[2]/div[2]/div/div/div/div/div[1]/div/div[1]/div/div\")\n",
    "for i in deptime_tags:\n",
    "    i=i.text\n",
    "    dep_time.append(i)\n",
    "arrtime_tags=driver.find_elements_by_xpath(\"/html/body/section[2]/section/section[2]/section[1]/div[2]/div[2]/div/div/div/div[2]/div[2]/div/div/div/div/div[1]/div/div[3]/p[1]\")\n",
    "for i in arrtime_tags:\n",
    "    i=i.text\n",
    "    arr_time.append(i)\n",
    "nos_tags=driver.find_elements_by_xpath(\"/html/body/section[2]/section/section[2]/section[1]/div[2]/div[2]/div/div/div/div[2]/div[2]/div/div/div/div/div[2]/div/div/span\")\n",
    "for i in nos_tags:\n",
    "    i=i.text\n",
    "    no_of_stops.append(i)\n",
    "dur_tags=driver.find_elements_by_xpath(\"/html/body/section[2]/section/section[2]/section[1]/div[2]/div[2]/div/div/div/div[2]/div[2]/div/div/div/div/div[2]/div/p\")\n",
    "for i in dur_tags:\n",
    "    i=i.text\n",
    "    duration.append(i)\n",
    "price_tags=driver.find_elements_by_xpath(\"/html/body/section[2]/section/section[2]/section[1]/div[2]/div[2]/div/div/div/div[2]/div[4]/div/div[1]/div/label/div/div[2]\")\n",
    "for i in price_tags:\n",
    "    i=i.text\n",
    "    price.append(i)\n",
    "    date.append('15-03-2022')"
   ]
  },
  {
   "cell_type": "code",
   "execution_count": 47,
   "id": "09775907",
   "metadata": {},
   "outputs": [],
   "source": [
    "# Scraping prices of Delhi to Bangalore flights for 22nd March\n",
    "url=\"https://flight.yatra.com/air-search-ui/dom2/trigger?ADT=1&CHD=0&INF=0&class=Economy&destination=BLR&destinationCountry=IN&flexi=0&flight_depart_date=22%2F03%2F2022&hb=0&noOfSegments=1&origin=DEL&originCountry=IN&type=O&unique=1067636936687&version=1.1&viewName=normal\""
   ]
  },
  {
   "cell_type": "code",
   "execution_count": 48,
   "id": "3106ec87",
   "metadata": {},
   "outputs": [],
   "source": [
    "driver.get(url)"
   ]
  },
  {
   "cell_type": "code",
   "execution_count": 49,
   "id": "42310c59",
   "metadata": {},
   "outputs": [
    {
     "name": "stderr",
     "output_type": "stream",
     "text": [
      "<ipython-input-49-bbc04be1a72f>:1: DeprecationWarning: find_elements_by_* commands are deprecated. Please use find_elements() instead\n",
      "  airline_tags=driver.find_elements_by_xpath(\"/html/body/section[2]/section/section[2]/section[1]/div[2]/div[2]/div/div/div/div[2]/div[1]/div/div[2]/span\")\n",
      "<ipython-input-49-bbc04be1a72f>:5: DeprecationWarning: find_elements_by_* commands are deprecated. Please use find_elements() instead\n",
      "  source_tags=driver.find_elements_by_xpath(\"/html/body/section[2]/section/section[2]/section[1]/div[2]/div[2]/div/div/div/div[2]/div[2]/div/div/div/div/div[1]/div/div[1]/p\")\n",
      "<ipython-input-49-bbc04be1a72f>:9: DeprecationWarning: find_elements_by_* commands are deprecated. Please use find_elements() instead\n",
      "  destination_tags=driver.find_elements_by_xpath(\"/html/body/section[2]/section/section[2]/section[1]/div[2]/div[2]/div/div/div/div[2]/div[2]/div/div/div/div/div[1]/div/div[3]/p[2]\")\n",
      "<ipython-input-49-bbc04be1a72f>:13: DeprecationWarning: find_elements_by_* commands are deprecated. Please use find_elements() instead\n",
      "  deptime_tags=driver.find_elements_by_xpath(\"/html/body/section[2]/section/section[2]/section[1]/div[2]/div[2]/div/div/div/div[2]/div[2]/div/div/div/div/div[1]/div/div[1]/div/div\")\n",
      "<ipython-input-49-bbc04be1a72f>:17: DeprecationWarning: find_elements_by_* commands are deprecated. Please use find_elements() instead\n",
      "  arrtime_tags=driver.find_elements_by_xpath(\"/html/body/section[2]/section/section[2]/section[1]/div[2]/div[2]/div/div/div/div[2]/div[2]/div/div/div/div/div[1]/div/div[3]/p[1]\")\n",
      "<ipython-input-49-bbc04be1a72f>:21: DeprecationWarning: find_elements_by_* commands are deprecated. Please use find_elements() instead\n",
      "  nos_tags=driver.find_elements_by_xpath(\"/html/body/section[2]/section/section[2]/section[1]/div[2]/div[2]/div/div/div/div[2]/div[2]/div/div/div/div/div[2]/div/div/span\")\n",
      "<ipython-input-49-bbc04be1a72f>:25: DeprecationWarning: find_elements_by_* commands are deprecated. Please use find_elements() instead\n",
      "  dur_tags=driver.find_elements_by_xpath(\"/html/body/section[2]/section/section[2]/section[1]/div[2]/div[2]/div/div/div/div[2]/div[2]/div/div/div/div/div[2]/div/p\")\n",
      "<ipython-input-49-bbc04be1a72f>:29: DeprecationWarning: find_elements_by_* commands are deprecated. Please use find_elements() instead\n",
      "  price_tags=driver.find_elements_by_xpath(\"/html/body/section[2]/section/section[2]/section[1]/div[2]/div[2]/div/div/div/div[2]/div[4]/div/div[1]/div/label/div/div[2]\")\n"
     ]
    }
   ],
   "source": [
    "airline_tags=driver.find_elements_by_xpath(\"/html/body/section[2]/section/section[2]/section[1]/div[2]/div[2]/div/div/div/div[2]/div[1]/div/div[2]/span\")\n",
    "for i in airline_tags:\n",
    "    i=i.text\n",
    "    airline.append(i)\n",
    "source_tags=driver.find_elements_by_xpath(\"/html/body/section[2]/section/section[2]/section[1]/div[2]/div[2]/div/div/div/div[2]/div[2]/div/div/div/div/div[1]/div/div[1]/p\")\n",
    "for i in source_tags:\n",
    "    i=i.text\n",
    "    source.append(i)\n",
    "destination_tags=driver.find_elements_by_xpath(\"/html/body/section[2]/section/section[2]/section[1]/div[2]/div[2]/div/div/div/div[2]/div[2]/div/div/div/div/div[1]/div/div[3]/p[2]\")\n",
    "for i in destination_tags:\n",
    "    i=i.text\n",
    "    destination.append(i)\n",
    "deptime_tags=driver.find_elements_by_xpath(\"/html/body/section[2]/section/section[2]/section[1]/div[2]/div[2]/div/div/div/div[2]/div[2]/div/div/div/div/div[1]/div/div[1]/div/div\")\n",
    "for i in deptime_tags:\n",
    "    i=i.text\n",
    "    dep_time.append(i)\n",
    "arrtime_tags=driver.find_elements_by_xpath(\"/html/body/section[2]/section/section[2]/section[1]/div[2]/div[2]/div/div/div/div[2]/div[2]/div/div/div/div/div[1]/div/div[3]/p[1]\")\n",
    "for i in arrtime_tags:\n",
    "    i=i.text\n",
    "    arr_time.append(i)\n",
    "nos_tags=driver.find_elements_by_xpath(\"/html/body/section[2]/section/section[2]/section[1]/div[2]/div[2]/div/div/div/div[2]/div[2]/div/div/div/div/div[2]/div/div/span\")\n",
    "for i in nos_tags:\n",
    "    i=i.text\n",
    "    no_of_stops.append(i)\n",
    "dur_tags=driver.find_elements_by_xpath(\"/html/body/section[2]/section/section[2]/section[1]/div[2]/div[2]/div/div/div/div[2]/div[2]/div/div/div/div/div[2]/div/p\")\n",
    "for i in dur_tags:\n",
    "    i=i.text\n",
    "    duration.append(i)\n",
    "price_tags=driver.find_elements_by_xpath(\"/html/body/section[2]/section/section[2]/section[1]/div[2]/div[2]/div/div/div/div[2]/div[4]/div/div[1]/div/label/div/div[2]\")\n",
    "for i in price_tags:\n",
    "    i=i.text\n",
    "    price.append(i)\n",
    "    date.append('22-03-2022')"
   ]
  },
  {
   "cell_type": "code",
   "execution_count": 55,
   "id": "205c23e7",
   "metadata": {},
   "outputs": [],
   "source": [
    "# Scraping prices of Delhi to Chennai flights for 15th March\n",
    "url=\"https://flight.yatra.com/air-search-ui/dom2/trigger?ADT=1&CHD=0&INF=0&class=Economy&destination=MAA&destinationCountry=IN&flexi=0&flight_depart_date=15%2F03%2F2022&hb=0&noOfSegments=1&origin=DEL&originCountry=IN&type=O&unique=1545801918459&version=1.1&viewName=normal\""
   ]
  },
  {
   "cell_type": "code",
   "execution_count": 56,
   "id": "ba287066",
   "metadata": {},
   "outputs": [],
   "source": [
    "driver.get(url)"
   ]
  },
  {
   "cell_type": "code",
   "execution_count": 60,
   "id": "794bcfe3",
   "metadata": {},
   "outputs": [
    {
     "name": "stderr",
     "output_type": "stream",
     "text": [
      "<ipython-input-60-7d0bd17065b1>:1: DeprecationWarning: find_elements_by_* commands are deprecated. Please use find_elements() instead\n",
      "  airline_tags=driver.find_elements_by_xpath(\"/html/body/section[2]/section/section[2]/section[1]/div[2]/div[2]/div/div/div/div[2]/div[1]/div/div[2]/span\")\n",
      "<ipython-input-60-7d0bd17065b1>:5: DeprecationWarning: find_elements_by_* commands are deprecated. Please use find_elements() instead\n",
      "  source_tags=driver.find_elements_by_xpath(\"/html/body/section[2]/section/section[2]/section[1]/div[2]/div[2]/div/div/div/div[2]/div[2]/div/div/div/div/div[1]/div/div[1]/p\")\n",
      "<ipython-input-60-7d0bd17065b1>:9: DeprecationWarning: find_elements_by_* commands are deprecated. Please use find_elements() instead\n",
      "  destination_tags=driver.find_elements_by_xpath(\"/html/body/section[2]/section/section[2]/section[1]/div[2]/div[2]/div/div/div/div[2]/div[2]/div/div/div/div/div[1]/div/div[3]/p[2]\")\n",
      "<ipython-input-60-7d0bd17065b1>:13: DeprecationWarning: find_elements_by_* commands are deprecated. Please use find_elements() instead\n",
      "  deptime_tags=driver.find_elements_by_xpath(\"/html/body/section[2]/section/section[2]/section[1]/div[2]/div[2]/div/div/div/div[2]/div[2]/div/div/div/div/div[1]/div/div[1]/div/div\")\n",
      "<ipython-input-60-7d0bd17065b1>:17: DeprecationWarning: find_elements_by_* commands are deprecated. Please use find_elements() instead\n",
      "  arrtime_tags=driver.find_elements_by_xpath(\"/html/body/section[2]/section/section[2]/section[1]/div[2]/div[2]/div/div/div/div[2]/div[2]/div/div/div/div/div[1]/div/div[3]/p[1]\")\n",
      "<ipython-input-60-7d0bd17065b1>:21: DeprecationWarning: find_elements_by_* commands are deprecated. Please use find_elements() instead\n",
      "  nos_tags=driver.find_elements_by_xpath(\"/html/body/section[2]/section/section[2]/section[1]/div[2]/div[2]/div/div/div/div[2]/div[2]/div/div/div/div/div[2]/div/div/span\")\n",
      "<ipython-input-60-7d0bd17065b1>:25: DeprecationWarning: find_elements_by_* commands are deprecated. Please use find_elements() instead\n",
      "  dur_tags=driver.find_elements_by_xpath(\"/html/body/section[2]/section/section[2]/section[1]/div[2]/div[2]/div/div/div/div[2]/div[2]/div/div/div/div/div[2]/div/p\")\n",
      "<ipython-input-60-7d0bd17065b1>:29: DeprecationWarning: find_elements_by_* commands are deprecated. Please use find_elements() instead\n",
      "  price_tags=driver.find_elements_by_xpath(\"/html/body/section[2]/section/section[2]/section[1]/div[2]/div[2]/div/div/div/div[2]/div[4]/div/div[1]/div/label/div/div[2]\")\n"
     ]
    }
   ],
   "source": [
    "airline_tags=driver.find_elements_by_xpath(\"/html/body/section[2]/section/section[2]/section[1]/div[2]/div[2]/div/div/div/div[2]/div[1]/div/div[2]/span\")\n",
    "for i in airline_tags:\n",
    "    i=i.text\n",
    "    airline.append(i)\n",
    "source_tags=driver.find_elements_by_xpath(\"/html/body/section[2]/section/section[2]/section[1]/div[2]/div[2]/div/div/div/div[2]/div[2]/div/div/div/div/div[1]/div/div[1]/p\")\n",
    "for i in source_tags:\n",
    "    i=i.text\n",
    "    source.append(i)\n",
    "destination_tags=driver.find_elements_by_xpath(\"/html/body/section[2]/section/section[2]/section[1]/div[2]/div[2]/div/div/div/div[2]/div[2]/div/div/div/div/div[1]/div/div[3]/p[2]\")\n",
    "for i in destination_tags:\n",
    "    i=i.text\n",
    "    destination.append(i)\n",
    "deptime_tags=driver.find_elements_by_xpath(\"/html/body/section[2]/section/section[2]/section[1]/div[2]/div[2]/div/div/div/div[2]/div[2]/div/div/div/div/div[1]/div/div[1]/div/div\")\n",
    "for i in deptime_tags:\n",
    "    i=i.text\n",
    "    dep_time.append(i)\n",
    "arrtime_tags=driver.find_elements_by_xpath(\"/html/body/section[2]/section/section[2]/section[1]/div[2]/div[2]/div/div/div/div[2]/div[2]/div/div/div/div/div[1]/div/div[3]/p[1]\")\n",
    "for i in arrtime_tags:\n",
    "    i=i.text\n",
    "    arr_time.append(i)\n",
    "nos_tags=driver.find_elements_by_xpath(\"/html/body/section[2]/section/section[2]/section[1]/div[2]/div[2]/div/div/div/div[2]/div[2]/div/div/div/div/div[2]/div/div/span\")\n",
    "for i in nos_tags:\n",
    "    i=i.text\n",
    "    no_of_stops.append(i)\n",
    "dur_tags=driver.find_elements_by_xpath(\"/html/body/section[2]/section/section[2]/section[1]/div[2]/div[2]/div/div/div/div[2]/div[2]/div/div/div/div/div[2]/div/p\")\n",
    "for i in dur_tags:\n",
    "    i=i.text\n",
    "    duration.append(i)\n",
    "price_tags=driver.find_elements_by_xpath(\"/html/body/section[2]/section/section[2]/section[1]/div[2]/div[2]/div/div/div/div[2]/div[4]/div/div[1]/div/label/div/div[2]\")\n",
    "for i in price_tags:\n",
    "    i=i.text\n",
    "    price.append(i)\n",
    "    date.append('15-03-2022')"
   ]
  },
  {
   "cell_type": "code",
   "execution_count": 65,
   "id": "167946e5",
   "metadata": {},
   "outputs": [],
   "source": [
    "# Scraping prices of Delhi to Chennai flights for 22nd March\n",
    "url=\"https://flight.yatra.com/air-search-ui/dom2/trigger?ADT=1&CHD=0&INF=0&class=Economy&destination=MAA&destinationCountry=IN&flexi=0&flight_depart_date=22%2F03%2F2022&hb=0&noOfSegments=1&origin=DEL&originCountry=IN&type=O&unique=1172648475556&version=1.1&viewName=normal\""
   ]
  },
  {
   "cell_type": "code",
   "execution_count": 66,
   "id": "f6595c01",
   "metadata": {},
   "outputs": [],
   "source": [
    "driver.get(url)"
   ]
  },
  {
   "cell_type": "code",
   "execution_count": 67,
   "id": "2e2a471b",
   "metadata": {},
   "outputs": [
    {
     "name": "stderr",
     "output_type": "stream",
     "text": [
      "<ipython-input-67-bbc04be1a72f>:1: DeprecationWarning: find_elements_by_* commands are deprecated. Please use find_elements() instead\n",
      "  airline_tags=driver.find_elements_by_xpath(\"/html/body/section[2]/section/section[2]/section[1]/div[2]/div[2]/div/div/div/div[2]/div[1]/div/div[2]/span\")\n",
      "<ipython-input-67-bbc04be1a72f>:5: DeprecationWarning: find_elements_by_* commands are deprecated. Please use find_elements() instead\n",
      "  source_tags=driver.find_elements_by_xpath(\"/html/body/section[2]/section/section[2]/section[1]/div[2]/div[2]/div/div/div/div[2]/div[2]/div/div/div/div/div[1]/div/div[1]/p\")\n",
      "<ipython-input-67-bbc04be1a72f>:9: DeprecationWarning: find_elements_by_* commands are deprecated. Please use find_elements() instead\n",
      "  destination_tags=driver.find_elements_by_xpath(\"/html/body/section[2]/section/section[2]/section[1]/div[2]/div[2]/div/div/div/div[2]/div[2]/div/div/div/div/div[1]/div/div[3]/p[2]\")\n",
      "<ipython-input-67-bbc04be1a72f>:13: DeprecationWarning: find_elements_by_* commands are deprecated. Please use find_elements() instead\n",
      "  deptime_tags=driver.find_elements_by_xpath(\"/html/body/section[2]/section/section[2]/section[1]/div[2]/div[2]/div/div/div/div[2]/div[2]/div/div/div/div/div[1]/div/div[1]/div/div\")\n",
      "<ipython-input-67-bbc04be1a72f>:17: DeprecationWarning: find_elements_by_* commands are deprecated. Please use find_elements() instead\n",
      "  arrtime_tags=driver.find_elements_by_xpath(\"/html/body/section[2]/section/section[2]/section[1]/div[2]/div[2]/div/div/div/div[2]/div[2]/div/div/div/div/div[1]/div/div[3]/p[1]\")\n",
      "<ipython-input-67-bbc04be1a72f>:21: DeprecationWarning: find_elements_by_* commands are deprecated. Please use find_elements() instead\n",
      "  nos_tags=driver.find_elements_by_xpath(\"/html/body/section[2]/section/section[2]/section[1]/div[2]/div[2]/div/div/div/div[2]/div[2]/div/div/div/div/div[2]/div/div/span\")\n",
      "<ipython-input-67-bbc04be1a72f>:25: DeprecationWarning: find_elements_by_* commands are deprecated. Please use find_elements() instead\n",
      "  dur_tags=driver.find_elements_by_xpath(\"/html/body/section[2]/section/section[2]/section[1]/div[2]/div[2]/div/div/div/div[2]/div[2]/div/div/div/div/div[2]/div/p\")\n",
      "<ipython-input-67-bbc04be1a72f>:29: DeprecationWarning: find_elements_by_* commands are deprecated. Please use find_elements() instead\n",
      "  price_tags=driver.find_elements_by_xpath(\"/html/body/section[2]/section/section[2]/section[1]/div[2]/div[2]/div/div/div/div[2]/div[4]/div/div[1]/div/label/div/div[2]\")\n"
     ]
    }
   ],
   "source": [
    "airline_tags=driver.find_elements_by_xpath(\"/html/body/section[2]/section/section[2]/section[1]/div[2]/div[2]/div/div/div/div[2]/div[1]/div/div[2]/span\")\n",
    "for i in airline_tags:\n",
    "    i=i.text\n",
    "    airline.append(i)\n",
    "source_tags=driver.find_elements_by_xpath(\"/html/body/section[2]/section/section[2]/section[1]/div[2]/div[2]/div/div/div/div[2]/div[2]/div/div/div/div/div[1]/div/div[1]/p\")\n",
    "for i in source_tags:\n",
    "    i=i.text\n",
    "    source.append(i)\n",
    "destination_tags=driver.find_elements_by_xpath(\"/html/body/section[2]/section/section[2]/section[1]/div[2]/div[2]/div/div/div/div[2]/div[2]/div/div/div/div/div[1]/div/div[3]/p[2]\")\n",
    "for i in destination_tags:\n",
    "    i=i.text\n",
    "    destination.append(i)\n",
    "deptime_tags=driver.find_elements_by_xpath(\"/html/body/section[2]/section/section[2]/section[1]/div[2]/div[2]/div/div/div/div[2]/div[2]/div/div/div/div/div[1]/div/div[1]/div/div\")\n",
    "for i in deptime_tags:\n",
    "    i=i.text\n",
    "    dep_time.append(i)\n",
    "arrtime_tags=driver.find_elements_by_xpath(\"/html/body/section[2]/section/section[2]/section[1]/div[2]/div[2]/div/div/div/div[2]/div[2]/div/div/div/div/div[1]/div/div[3]/p[1]\")\n",
    "for i in arrtime_tags:\n",
    "    i=i.text\n",
    "    arr_time.append(i)\n",
    "nos_tags=driver.find_elements_by_xpath(\"/html/body/section[2]/section/section[2]/section[1]/div[2]/div[2]/div/div/div/div[2]/div[2]/div/div/div/div/div[2]/div/div/span\")\n",
    "for i in nos_tags:\n",
    "    i=i.text\n",
    "    no_of_stops.append(i)\n",
    "dur_tags=driver.find_elements_by_xpath(\"/html/body/section[2]/section/section[2]/section[1]/div[2]/div[2]/div/div/div/div[2]/div[2]/div/div/div/div/div[2]/div/p\")\n",
    "for i in dur_tags:\n",
    "    i=i.text\n",
    "    duration.append(i)\n",
    "price_tags=driver.find_elements_by_xpath(\"/html/body/section[2]/section/section[2]/section[1]/div[2]/div[2]/div/div/div/div[2]/div[4]/div/div[1]/div/label/div/div[2]\")\n",
    "for i in price_tags:\n",
    "    i=i.text\n",
    "    price.append(i)\n",
    "    date.append('22-03-2022')"
   ]
  },
  {
   "cell_type": "code",
   "execution_count": 68,
   "id": "299d4287",
   "metadata": {},
   "outputs": [],
   "source": [
    "Flight_Ticket=pd.DataFrame({})\n",
    "Flight_Ticket['Airline']=airline\n",
    "Flight_Ticket['Source']=source\n",
    "Flight_Ticket['Destination']=destination\n",
    "Flight_Ticket['Dep_Time']=dep_time\n",
    "Flight_Ticket['Arr_Time']=arr_time\n",
    "Flight_Ticket['No_of_stops']=no_of_stops\n",
    "Flight_Ticket['Duration']=duration\n",
    "Flight_Ticket['Price']=price\n",
    "Flight_Ticket['Date']=date"
   ]
  },
  {
   "cell_type": "code",
   "execution_count": 69,
   "id": "0c22cece",
   "metadata": {},
   "outputs": [
    {
     "data": {
      "text/html": [
       "<div>\n",
       "<style scoped>\n",
       "    .dataframe tbody tr th:only-of-type {\n",
       "        vertical-align: middle;\n",
       "    }\n",
       "\n",
       "    .dataframe tbody tr th {\n",
       "        vertical-align: top;\n",
       "    }\n",
       "\n",
       "    .dataframe thead th {\n",
       "        text-align: right;\n",
       "    }\n",
       "</style>\n",
       "<table border=\"1\" class=\"dataframe\">\n",
       "  <thead>\n",
       "    <tr style=\"text-align: right;\">\n",
       "      <th></th>\n",
       "      <th>Airline</th>\n",
       "      <th>Source</th>\n",
       "      <th>Destination</th>\n",
       "      <th>Dep_Time</th>\n",
       "      <th>Arr_Time</th>\n",
       "      <th>No_of_stops</th>\n",
       "      <th>Duration</th>\n",
       "      <th>Price</th>\n",
       "      <th>Date</th>\n",
       "    </tr>\n",
       "  </thead>\n",
       "  <tbody>\n",
       "    <tr>\n",
       "      <th>0</th>\n",
       "      <td>Air Asia</td>\n",
       "      <td>New Delhi</td>\n",
       "      <td>Mumbai</td>\n",
       "      <td>19:00</td>\n",
       "      <td>00:35\\n+ 1 day</td>\n",
       "      <td>1 Stop</td>\n",
       "      <td>5h 35m</td>\n",
       "      <td>2,409</td>\n",
       "      <td>15-03-2022</td>\n",
       "    </tr>\n",
       "    <tr>\n",
       "      <th>1</th>\n",
       "      <td>Air Asia</td>\n",
       "      <td>New Delhi</td>\n",
       "      <td>Mumbai</td>\n",
       "      <td>08:20</td>\n",
       "      <td>14:10</td>\n",
       "      <td>1 Stop</td>\n",
       "      <td>5h 50m</td>\n",
       "      <td>2,409</td>\n",
       "      <td>15-03-2022</td>\n",
       "    </tr>\n",
       "    <tr>\n",
       "      <th>2</th>\n",
       "      <td>Air Asia</td>\n",
       "      <td>New Delhi</td>\n",
       "      <td>Mumbai</td>\n",
       "      <td>20:00</td>\n",
       "      <td>02:25\\n+ 1 day</td>\n",
       "      <td>1 Stop</td>\n",
       "      <td>6h 25m</td>\n",
       "      <td>2,409</td>\n",
       "      <td>15-03-2022</td>\n",
       "    </tr>\n",
       "    <tr>\n",
       "      <th>3</th>\n",
       "      <td>Air Asia</td>\n",
       "      <td>New Delhi</td>\n",
       "      <td>Mumbai</td>\n",
       "      <td>20:45</td>\n",
       "      <td>07:15\\n+ 1 day</td>\n",
       "      <td>1 Stop</td>\n",
       "      <td>10h 30m</td>\n",
       "      <td>2,409</td>\n",
       "      <td>15-03-2022</td>\n",
       "    </tr>\n",
       "    <tr>\n",
       "      <th>4</th>\n",
       "      <td>Air Asia</td>\n",
       "      <td>New Delhi</td>\n",
       "      <td>Mumbai</td>\n",
       "      <td>09:35</td>\n",
       "      <td>20:35</td>\n",
       "      <td>1 Stop</td>\n",
       "      <td>11h 00m</td>\n",
       "      <td>2,409</td>\n",
       "      <td>15-03-2022</td>\n",
       "    </tr>\n",
       "  </tbody>\n",
       "</table>\n",
       "</div>"
      ],
      "text/plain": [
       "    Airline     Source Destination Dep_Time        Arr_Time No_of_stops  \\\n",
       "0  Air Asia  New Delhi      Mumbai    19:00  00:35\\n+ 1 day      1 Stop   \n",
       "1  Air Asia  New Delhi      Mumbai    08:20           14:10      1 Stop   \n",
       "2  Air Asia  New Delhi      Mumbai    20:00  02:25\\n+ 1 day      1 Stop   \n",
       "3  Air Asia  New Delhi      Mumbai    20:45  07:15\\n+ 1 day      1 Stop   \n",
       "4  Air Asia  New Delhi      Mumbai    09:35           20:35      1 Stop   \n",
       "\n",
       "  Duration  Price        Date  \n",
       "0   5h 35m  2,409  15-03-2022  \n",
       "1   5h 50m  2,409  15-03-2022  \n",
       "2   6h 25m  2,409  15-03-2022  \n",
       "3  10h 30m  2,409  15-03-2022  \n",
       "4  11h 00m  2,409  15-03-2022  "
      ]
     },
     "execution_count": 69,
     "metadata": {},
     "output_type": "execute_result"
    }
   ],
   "source": [
    "Flight_Ticket.head()"
   ]
  },
  {
   "cell_type": "code",
   "execution_count": 71,
   "id": "cdd98842",
   "metadata": {},
   "outputs": [],
   "source": [
    "# saving the dataframe\n",
    "Flight_Ticket.to_csv(r'C:\\\\Users\\\\DELL\\\\Desktop\\\\Internship\\\\Flight_price_prediction\\\\ticket_price.csv', index=False)"
   ]
  }
 ],
 "metadata": {
  "kernelspec": {
   "display_name": "Python 3",
   "language": "python",
   "name": "python3"
  },
  "language_info": {
   "codemirror_mode": {
    "name": "ipython",
    "version": 3
   },
   "file_extension": ".py",
   "mimetype": "text/x-python",
   "name": "python",
   "nbconvert_exporter": "python",
   "pygments_lexer": "ipython3",
   "version": "3.8.8"
  }
 },
 "nbformat": 4,
 "nbformat_minor": 5
}
