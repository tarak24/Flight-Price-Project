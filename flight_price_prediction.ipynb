{
 "cells": [
  {
   "cell_type": "markdown",
   "id": "935a3877",
   "metadata": {},
   "source": [
    "# Flight Price Prediction"
   ]
  },
  {
   "cell_type": "code",
   "execution_count": 1,
   "id": "2aedf2db",
   "metadata": {},
   "outputs": [],
   "source": [
    "import pandas as pd\n",
    "import numpy as np\n",
    "import matplotlib.pyplot as plt\n",
    "import warnings\n",
    "warnings.filterwarnings('ignore')\n",
    "import seaborn as sns"
   ]
  },
  {
   "cell_type": "code",
   "execution_count": 2,
   "id": "5ed183c4",
   "metadata": {},
   "outputs": [
    {
     "data": {
      "text/html": [
       "<div>\n",
       "<style scoped>\n",
       "    .dataframe tbody tr th:only-of-type {\n",
       "        vertical-align: middle;\n",
       "    }\n",
       "\n",
       "    .dataframe tbody tr th {\n",
       "        vertical-align: top;\n",
       "    }\n",
       "\n",
       "    .dataframe thead th {\n",
       "        text-align: right;\n",
       "    }\n",
       "</style>\n",
       "<table border=\"1\" class=\"dataframe\">\n",
       "  <thead>\n",
       "    <tr style=\"text-align: right;\">\n",
       "      <th></th>\n",
       "      <th>Airline</th>\n",
       "      <th>Source</th>\n",
       "      <th>Destination</th>\n",
       "      <th>Dep_Time</th>\n",
       "      <th>Arr_Time</th>\n",
       "      <th>No_of_stops</th>\n",
       "      <th>Duration</th>\n",
       "      <th>Price</th>\n",
       "      <th>Date</th>\n",
       "    </tr>\n",
       "  </thead>\n",
       "  <tbody>\n",
       "    <tr>\n",
       "      <th>0</th>\n",
       "      <td>Air Asia</td>\n",
       "      <td>New Delhi</td>\n",
       "      <td>Mumbai</td>\n",
       "      <td>19:00</td>\n",
       "      <td>00:35\\n+ 1 day</td>\n",
       "      <td>1 Stop</td>\n",
       "      <td>5h 35m</td>\n",
       "      <td>2,409</td>\n",
       "      <td>15-03-2022</td>\n",
       "    </tr>\n",
       "    <tr>\n",
       "      <th>1</th>\n",
       "      <td>Air Asia</td>\n",
       "      <td>New Delhi</td>\n",
       "      <td>Mumbai</td>\n",
       "      <td>08:20</td>\n",
       "      <td>14:10</td>\n",
       "      <td>1 Stop</td>\n",
       "      <td>5h 50m</td>\n",
       "      <td>2,409</td>\n",
       "      <td>15-03-2022</td>\n",
       "    </tr>\n",
       "    <tr>\n",
       "      <th>2</th>\n",
       "      <td>Air Asia</td>\n",
       "      <td>New Delhi</td>\n",
       "      <td>Mumbai</td>\n",
       "      <td>20:00</td>\n",
       "      <td>02:25\\n+ 1 day</td>\n",
       "      <td>1 Stop</td>\n",
       "      <td>6h 25m</td>\n",
       "      <td>2,409</td>\n",
       "      <td>15-03-2022</td>\n",
       "    </tr>\n",
       "    <tr>\n",
       "      <th>3</th>\n",
       "      <td>Air Asia</td>\n",
       "      <td>New Delhi</td>\n",
       "      <td>Mumbai</td>\n",
       "      <td>20:45</td>\n",
       "      <td>07:15\\n+ 1 day</td>\n",
       "      <td>1 Stop</td>\n",
       "      <td>10h 30m</td>\n",
       "      <td>2,409</td>\n",
       "      <td>15-03-2022</td>\n",
       "    </tr>\n",
       "    <tr>\n",
       "      <th>4</th>\n",
       "      <td>Air Asia</td>\n",
       "      <td>New Delhi</td>\n",
       "      <td>Mumbai</td>\n",
       "      <td>09:35</td>\n",
       "      <td>20:35</td>\n",
       "      <td>1 Stop</td>\n",
       "      <td>11h 00m</td>\n",
       "      <td>2,409</td>\n",
       "      <td>15-03-2022</td>\n",
       "    </tr>\n",
       "  </tbody>\n",
       "</table>\n",
       "</div>"
      ],
      "text/plain": [
       "    Airline     Source Destination Dep_Time        Arr_Time No_of_stops  \\\n",
       "0  Air Asia  New Delhi      Mumbai    19:00  00:35\\n+ 1 day      1 Stop   \n",
       "1  Air Asia  New Delhi      Mumbai    08:20           14:10      1 Stop   \n",
       "2  Air Asia  New Delhi      Mumbai    20:00  02:25\\n+ 1 day      1 Stop   \n",
       "3  Air Asia  New Delhi      Mumbai    20:45  07:15\\n+ 1 day      1 Stop   \n",
       "4  Air Asia  New Delhi      Mumbai    09:35           20:35      1 Stop   \n",
       "\n",
       "  Duration  Price        Date  \n",
       "0   5h 35m  2,409  15-03-2022  \n",
       "1   5h 50m  2,409  15-03-2022  \n",
       "2   6h 25m  2,409  15-03-2022  \n",
       "3  10h 30m  2,409  15-03-2022  \n",
       "4  11h 00m  2,409  15-03-2022  "
      ]
     },
     "execution_count": 2,
     "metadata": {},
     "output_type": "execute_result"
    }
   ],
   "source": [
    "df=pd.read_csv('C:\\\\Users\\\\DELL\\\\Desktop\\\\Internship\\\\Flight_price_prediction\\\\ticket_price.csv')\n",
    "df.head()"
   ]
  },
  {
   "cell_type": "markdown",
   "id": "9a01ae03",
   "metadata": {},
   "source": [
    "## EDA"
   ]
  },
  {
   "cell_type": "code",
   "execution_count": 3,
   "id": "42f19cfa",
   "metadata": {},
   "outputs": [
    {
     "data": {
      "text/plain": [
       "(1525, 9)"
      ]
     },
     "execution_count": 3,
     "metadata": {},
     "output_type": "execute_result"
    }
   ],
   "source": [
    "df.shape"
   ]
  },
  {
   "cell_type": "code",
   "execution_count": 4,
   "id": "5e5d90fc",
   "metadata": {},
   "outputs": [
    {
     "data": {
      "text/plain": [
       "Airline        object\n",
       "Source         object\n",
       "Destination    object\n",
       "Dep_Time       object\n",
       "Arr_Time       object\n",
       "No_of_stops    object\n",
       "Duration       object\n",
       "Price          object\n",
       "Date           object\n",
       "dtype: object"
      ]
     },
     "execution_count": 4,
     "metadata": {},
     "output_type": "execute_result"
    }
   ],
   "source": [
    "df.dtypes"
   ]
  },
  {
   "cell_type": "code",
   "execution_count": 5,
   "id": "fcf36a51",
   "metadata": {},
   "outputs": [
    {
     "data": {
      "text/plain": [
       "Air India    402\n",
       "IndiGo       370\n",
       "Vistara      345\n",
       "Go First     164\n",
       "Air Asia     130\n",
       "SpiceJet     114\n",
       "Name: Airline, dtype: int64"
      ]
     },
     "execution_count": 5,
     "metadata": {},
     "output_type": "execute_result"
    }
   ],
   "source": [
    "df['Airline'].value_counts()"
   ]
  },
  {
   "cell_type": "code",
   "execution_count": 6,
   "id": "75830c1b",
   "metadata": {},
   "outputs": [
    {
     "data": {
      "text/plain": [
       "Bangalore    336\n",
       "Chennai      331\n",
       "Kolkata      310\n",
       "Mumbai       302\n",
       "Hyderabad    246\n",
       "Name: Destination, dtype: int64"
      ]
     },
     "execution_count": 6,
     "metadata": {},
     "output_type": "execute_result"
    }
   ],
   "source": [
    "df['Destination'].value_counts()"
   ]
  },
  {
   "cell_type": "code",
   "execution_count": 7,
   "id": "d3be88af",
   "metadata": {},
   "outputs": [
    {
     "data": {
      "text/plain": [
       "1 Stop       1076\n",
       "Non Stop      319\n",
       "2 Stop(s)     123\n",
       "3 Stop(s)       7\n",
       "Name: No_of_stops, dtype: int64"
      ]
     },
     "execution_count": 7,
     "metadata": {},
     "output_type": "execute_result"
    }
   ],
   "source": [
    "df['No_of_stops'].value_counts()"
   ]
  },
  {
   "cell_type": "code",
   "execution_count": 8,
   "id": "9f02e342",
   "metadata": {},
   "outputs": [],
   "source": [
    "### Replacing number of stops with its corrosponding integer number.\n",
    "\n",
    "df.replace({\"Non Stop\": 0, \"1 Stop\": 1, \"2 Stop(s)\": 2, \"3 Stop(s)\":3}, inplace = True)"
   ]
  },
  {
   "cell_type": "code",
   "execution_count": 9,
   "id": "fa859f5e",
   "metadata": {},
   "outputs": [],
   "source": [
    "### Extracting date, month and year seperately.\n",
    "\n",
    "df['date']=df['Date'].str.split('-').str[0]\n",
    "df['Month']=df['Date'].str.split('-').str[1]\n",
    "df['Year']=df['Date'].str.split('-').str[2]"
   ]
  },
  {
   "cell_type": "code",
   "execution_count": 10,
   "id": "178f2075",
   "metadata": {},
   "outputs": [
    {
     "data": {
      "text/html": [
       "<div>\n",
       "<style scoped>\n",
       "    .dataframe tbody tr th:only-of-type {\n",
       "        vertical-align: middle;\n",
       "    }\n",
       "\n",
       "    .dataframe tbody tr th {\n",
       "        vertical-align: top;\n",
       "    }\n",
       "\n",
       "    .dataframe thead th {\n",
       "        text-align: right;\n",
       "    }\n",
       "</style>\n",
       "<table border=\"1\" class=\"dataframe\">\n",
       "  <thead>\n",
       "    <tr style=\"text-align: right;\">\n",
       "      <th></th>\n",
       "      <th>Airline</th>\n",
       "      <th>Source</th>\n",
       "      <th>Destination</th>\n",
       "      <th>Dep_Time</th>\n",
       "      <th>Arr_Time</th>\n",
       "      <th>No_of_stops</th>\n",
       "      <th>Duration</th>\n",
       "      <th>Price</th>\n",
       "      <th>Date</th>\n",
       "      <th>date</th>\n",
       "      <th>Month</th>\n",
       "      <th>Year</th>\n",
       "    </tr>\n",
       "  </thead>\n",
       "  <tbody>\n",
       "    <tr>\n",
       "      <th>0</th>\n",
       "      <td>Air Asia</td>\n",
       "      <td>New Delhi</td>\n",
       "      <td>Mumbai</td>\n",
       "      <td>19:00</td>\n",
       "      <td>00:35\\n+ 1 day</td>\n",
       "      <td>1</td>\n",
       "      <td>5h 35m</td>\n",
       "      <td>2,409</td>\n",
       "      <td>15-03-2022</td>\n",
       "      <td>15</td>\n",
       "      <td>03</td>\n",
       "      <td>2022</td>\n",
       "    </tr>\n",
       "    <tr>\n",
       "      <th>1</th>\n",
       "      <td>Air Asia</td>\n",
       "      <td>New Delhi</td>\n",
       "      <td>Mumbai</td>\n",
       "      <td>08:20</td>\n",
       "      <td>14:10</td>\n",
       "      <td>1</td>\n",
       "      <td>5h 50m</td>\n",
       "      <td>2,409</td>\n",
       "      <td>15-03-2022</td>\n",
       "      <td>15</td>\n",
       "      <td>03</td>\n",
       "      <td>2022</td>\n",
       "    </tr>\n",
       "    <tr>\n",
       "      <th>2</th>\n",
       "      <td>Air Asia</td>\n",
       "      <td>New Delhi</td>\n",
       "      <td>Mumbai</td>\n",
       "      <td>20:00</td>\n",
       "      <td>02:25\\n+ 1 day</td>\n",
       "      <td>1</td>\n",
       "      <td>6h 25m</td>\n",
       "      <td>2,409</td>\n",
       "      <td>15-03-2022</td>\n",
       "      <td>15</td>\n",
       "      <td>03</td>\n",
       "      <td>2022</td>\n",
       "    </tr>\n",
       "    <tr>\n",
       "      <th>3</th>\n",
       "      <td>Air Asia</td>\n",
       "      <td>New Delhi</td>\n",
       "      <td>Mumbai</td>\n",
       "      <td>20:45</td>\n",
       "      <td>07:15\\n+ 1 day</td>\n",
       "      <td>1</td>\n",
       "      <td>10h 30m</td>\n",
       "      <td>2,409</td>\n",
       "      <td>15-03-2022</td>\n",
       "      <td>15</td>\n",
       "      <td>03</td>\n",
       "      <td>2022</td>\n",
       "    </tr>\n",
       "    <tr>\n",
       "      <th>4</th>\n",
       "      <td>Air Asia</td>\n",
       "      <td>New Delhi</td>\n",
       "      <td>Mumbai</td>\n",
       "      <td>09:35</td>\n",
       "      <td>20:35</td>\n",
       "      <td>1</td>\n",
       "      <td>11h 00m</td>\n",
       "      <td>2,409</td>\n",
       "      <td>15-03-2022</td>\n",
       "      <td>15</td>\n",
       "      <td>03</td>\n",
       "      <td>2022</td>\n",
       "    </tr>\n",
       "  </tbody>\n",
       "</table>\n",
       "</div>"
      ],
      "text/plain": [
       "    Airline     Source Destination Dep_Time        Arr_Time  No_of_stops  \\\n",
       "0  Air Asia  New Delhi      Mumbai    19:00  00:35\\n+ 1 day            1   \n",
       "1  Air Asia  New Delhi      Mumbai    08:20           14:10            1   \n",
       "2  Air Asia  New Delhi      Mumbai    20:00  02:25\\n+ 1 day            1   \n",
       "3  Air Asia  New Delhi      Mumbai    20:45  07:15\\n+ 1 day            1   \n",
       "4  Air Asia  New Delhi      Mumbai    09:35           20:35            1   \n",
       "\n",
       "  Duration  Price        Date date Month  Year  \n",
       "0   5h 35m  2,409  15-03-2022   15    03  2022  \n",
       "1   5h 50m  2,409  15-03-2022   15    03  2022  \n",
       "2   6h 25m  2,409  15-03-2022   15    03  2022  \n",
       "3  10h 30m  2,409  15-03-2022   15    03  2022  \n",
       "4  11h 00m  2,409  15-03-2022   15    03  2022  "
      ]
     },
     "execution_count": 10,
     "metadata": {},
     "output_type": "execute_result"
    }
   ],
   "source": [
    "df.head()"
   ]
  },
  {
   "cell_type": "code",
   "execution_count": 11,
   "id": "8a86c30a",
   "metadata": {},
   "outputs": [
    {
     "data": {
      "text/plain": [
       "03    1525\n",
       "Name: Month, dtype: int64"
      ]
     },
     "execution_count": 11,
     "metadata": {},
     "output_type": "execute_result"
    }
   ],
   "source": [
    "df['Month'].value_counts()"
   ]
  },
  {
   "cell_type": "code",
   "execution_count": 12,
   "id": "93d879c6",
   "metadata": {},
   "outputs": [],
   "source": [
    "# Only March month is present, so we can delete the column.\n",
    "df.drop(['Month'],axis=1,inplace=True)"
   ]
  },
  {
   "cell_type": "code",
   "execution_count": 13,
   "id": "c7468b8a",
   "metadata": {},
   "outputs": [
    {
     "data": {
      "text/plain": [
       "15    777\n",
       "22    748\n",
       "Name: date, dtype: int64"
      ]
     },
     "execution_count": 13,
     "metadata": {},
     "output_type": "execute_result"
    }
   ],
   "source": [
    "df['date'].value_counts()"
   ]
  },
  {
   "cell_type": "code",
   "execution_count": 14,
   "id": "1a605894",
   "metadata": {},
   "outputs": [
    {
     "data": {
      "text/plain": [
       "2022    1525\n",
       "Name: Year, dtype: int64"
      ]
     },
     "execution_count": 14,
     "metadata": {},
     "output_type": "execute_result"
    }
   ],
   "source": [
    "df['Year'].value_counts()"
   ]
  },
  {
   "cell_type": "code",
   "execution_count": 15,
   "id": "fb2cee75",
   "metadata": {},
   "outputs": [],
   "source": [
    "# Only 2022 year is present, so we can delete the column.\n",
    "df.drop(['Year'],axis=1,inplace=True)"
   ]
  },
  {
   "cell_type": "code",
   "execution_count": 16,
   "id": "a4509965",
   "metadata": {},
   "outputs": [],
   "source": [
    "df.drop(['Date'],axis=1,inplace=True)"
   ]
  },
  {
   "cell_type": "code",
   "execution_count": 17,
   "id": "fbe58dd3",
   "metadata": {},
   "outputs": [
    {
     "data": {
      "text/plain": [
       "Airline        0\n",
       "Source         0\n",
       "Destination    0\n",
       "Dep_Time       0\n",
       "Arr_Time       0\n",
       "No_of_stops    0\n",
       "Duration       0\n",
       "Price          0\n",
       "date           0\n",
       "dtype: int64"
      ]
     },
     "execution_count": 17,
     "metadata": {},
     "output_type": "execute_result"
    }
   ],
   "source": [
    "df.isnull().sum()"
   ]
  },
  {
   "cell_type": "code",
   "execution_count": 18,
   "id": "67c4c8ab",
   "metadata": {},
   "outputs": [],
   "source": [
    "# We can delete Arrival Column, because Departure time and Duration gives the same information\n",
    "\n",
    "df.drop(['Arr_Time'],axis=1,inplace=True)"
   ]
  },
  {
   "cell_type": "markdown",
   "id": "a6e68107",
   "metadata": {},
   "source": [
    "### We can divide the Departure timings into 4 quarters like Morning, Afternoon and Evening, Night and Mid Night."
   ]
  },
  {
   "cell_type": "code",
   "execution_count": 19,
   "id": "01c1132c",
   "metadata": {},
   "outputs": [],
   "source": [
    "df['Dep_Time']=df['Dep_Time'].str.split(':').str[0]"
   ]
  },
  {
   "cell_type": "code",
   "execution_count": 20,
   "id": "57a8489b",
   "metadata": {},
   "outputs": [],
   "source": [
    "df['Dep_Time']=df['Dep_Time'].astype(int)"
   ]
  },
  {
   "cell_type": "code",
   "execution_count": 21,
   "id": "698bd62e",
   "metadata": {},
   "outputs": [],
   "source": [
    "for i in df.index:\n",
    "    if df['Dep_Time'][i]>=0 and df['Dep_Time'][i]<6:\n",
    "        df['Dep_Time'][i]='Mid Night'\n",
    "    elif df['Dep_Time'][i]>=6 and df['Dep_Time'][i]<12:\n",
    "        df['Dep_Time'][i]='Morning'\n",
    "    elif df['Dep_Time'][i]>=12 and df['Dep_Time'][i]<18:\n",
    "        df['Dep_Time'][i]='Afternoon & Evening'\n",
    "    else:\n",
    "        df['Dep_Time'][i]='Night'"
   ]
  },
  {
   "cell_type": "code",
   "execution_count": 22,
   "id": "ce0965f8",
   "metadata": {},
   "outputs": [
    {
     "data": {
      "text/html": [
       "<div>\n",
       "<style scoped>\n",
       "    .dataframe tbody tr th:only-of-type {\n",
       "        vertical-align: middle;\n",
       "    }\n",
       "\n",
       "    .dataframe tbody tr th {\n",
       "        vertical-align: top;\n",
       "    }\n",
       "\n",
       "    .dataframe thead th {\n",
       "        text-align: right;\n",
       "    }\n",
       "</style>\n",
       "<table border=\"1\" class=\"dataframe\">\n",
       "  <thead>\n",
       "    <tr style=\"text-align: right;\">\n",
       "      <th></th>\n",
       "      <th>Airline</th>\n",
       "      <th>Source</th>\n",
       "      <th>Destination</th>\n",
       "      <th>Dep_Time</th>\n",
       "      <th>No_of_stops</th>\n",
       "      <th>Duration</th>\n",
       "      <th>Price</th>\n",
       "      <th>date</th>\n",
       "    </tr>\n",
       "  </thead>\n",
       "  <tbody>\n",
       "    <tr>\n",
       "      <th>0</th>\n",
       "      <td>Air Asia</td>\n",
       "      <td>New Delhi</td>\n",
       "      <td>Mumbai</td>\n",
       "      <td>Night</td>\n",
       "      <td>1</td>\n",
       "      <td>5h 35m</td>\n",
       "      <td>2,409</td>\n",
       "      <td>15</td>\n",
       "    </tr>\n",
       "    <tr>\n",
       "      <th>1</th>\n",
       "      <td>Air Asia</td>\n",
       "      <td>New Delhi</td>\n",
       "      <td>Mumbai</td>\n",
       "      <td>Morning</td>\n",
       "      <td>1</td>\n",
       "      <td>5h 50m</td>\n",
       "      <td>2,409</td>\n",
       "      <td>15</td>\n",
       "    </tr>\n",
       "    <tr>\n",
       "      <th>2</th>\n",
       "      <td>Air Asia</td>\n",
       "      <td>New Delhi</td>\n",
       "      <td>Mumbai</td>\n",
       "      <td>Night</td>\n",
       "      <td>1</td>\n",
       "      <td>6h 25m</td>\n",
       "      <td>2,409</td>\n",
       "      <td>15</td>\n",
       "    </tr>\n",
       "    <tr>\n",
       "      <th>3</th>\n",
       "      <td>Air Asia</td>\n",
       "      <td>New Delhi</td>\n",
       "      <td>Mumbai</td>\n",
       "      <td>Night</td>\n",
       "      <td>1</td>\n",
       "      <td>10h 30m</td>\n",
       "      <td>2,409</td>\n",
       "      <td>15</td>\n",
       "    </tr>\n",
       "    <tr>\n",
       "      <th>4</th>\n",
       "      <td>Air Asia</td>\n",
       "      <td>New Delhi</td>\n",
       "      <td>Mumbai</td>\n",
       "      <td>Morning</td>\n",
       "      <td>1</td>\n",
       "      <td>11h 00m</td>\n",
       "      <td>2,409</td>\n",
       "      <td>15</td>\n",
       "    </tr>\n",
       "  </tbody>\n",
       "</table>\n",
       "</div>"
      ],
      "text/plain": [
       "    Airline     Source Destination Dep_Time  No_of_stops Duration  Price date\n",
       "0  Air Asia  New Delhi      Mumbai    Night            1   5h 35m  2,409   15\n",
       "1  Air Asia  New Delhi      Mumbai  Morning            1   5h 50m  2,409   15\n",
       "2  Air Asia  New Delhi      Mumbai    Night            1   6h 25m  2,409   15\n",
       "3  Air Asia  New Delhi      Mumbai    Night            1  10h 30m  2,409   15\n",
       "4  Air Asia  New Delhi      Mumbai  Morning            1  11h 00m  2,409   15"
      ]
     },
     "execution_count": 22,
     "metadata": {},
     "output_type": "execute_result"
    }
   ],
   "source": [
    "df.head()"
   ]
  },
  {
   "cell_type": "code",
   "execution_count": 23,
   "id": "1db180e2",
   "metadata": {},
   "outputs": [
    {
     "data": {
      "text/html": [
       "<div>\n",
       "<style scoped>\n",
       "    .dataframe tbody tr th:only-of-type {\n",
       "        vertical-align: middle;\n",
       "    }\n",
       "\n",
       "    .dataframe tbody tr th {\n",
       "        vertical-align: top;\n",
       "    }\n",
       "\n",
       "    .dataframe thead th {\n",
       "        text-align: right;\n",
       "    }\n",
       "</style>\n",
       "<table border=\"1\" class=\"dataframe\">\n",
       "  <thead>\n",
       "    <tr style=\"text-align: right;\">\n",
       "      <th></th>\n",
       "      <th>Airline</th>\n",
       "      <th>Source</th>\n",
       "      <th>Destination</th>\n",
       "      <th>Dep_Time</th>\n",
       "      <th>No_of_stops</th>\n",
       "      <th>Duration</th>\n",
       "      <th>Price</th>\n",
       "      <th>date</th>\n",
       "    </tr>\n",
       "  </thead>\n",
       "  <tbody>\n",
       "    <tr>\n",
       "      <th>0</th>\n",
       "      <td>Air Asia</td>\n",
       "      <td>New Delhi</td>\n",
       "      <td>Mumbai</td>\n",
       "      <td>Night</td>\n",
       "      <td>1</td>\n",
       "      <td>5h</td>\n",
       "      <td>2,409</td>\n",
       "      <td>15</td>\n",
       "    </tr>\n",
       "    <tr>\n",
       "      <th>1</th>\n",
       "      <td>Air Asia</td>\n",
       "      <td>New Delhi</td>\n",
       "      <td>Mumbai</td>\n",
       "      <td>Morning</td>\n",
       "      <td>1</td>\n",
       "      <td>5h</td>\n",
       "      <td>2,409</td>\n",
       "      <td>15</td>\n",
       "    </tr>\n",
       "    <tr>\n",
       "      <th>2</th>\n",
       "      <td>Air Asia</td>\n",
       "      <td>New Delhi</td>\n",
       "      <td>Mumbai</td>\n",
       "      <td>Night</td>\n",
       "      <td>1</td>\n",
       "      <td>6h</td>\n",
       "      <td>2,409</td>\n",
       "      <td>15</td>\n",
       "    </tr>\n",
       "    <tr>\n",
       "      <th>3</th>\n",
       "      <td>Air Asia</td>\n",
       "      <td>New Delhi</td>\n",
       "      <td>Mumbai</td>\n",
       "      <td>Night</td>\n",
       "      <td>1</td>\n",
       "      <td>10h</td>\n",
       "      <td>2,409</td>\n",
       "      <td>15</td>\n",
       "    </tr>\n",
       "    <tr>\n",
       "      <th>4</th>\n",
       "      <td>Air Asia</td>\n",
       "      <td>New Delhi</td>\n",
       "      <td>Mumbai</td>\n",
       "      <td>Morning</td>\n",
       "      <td>1</td>\n",
       "      <td>11h</td>\n",
       "      <td>2,409</td>\n",
       "      <td>15</td>\n",
       "    </tr>\n",
       "  </tbody>\n",
       "</table>\n",
       "</div>"
      ],
      "text/plain": [
       "    Airline     Source Destination Dep_Time  No_of_stops Duration  Price date\n",
       "0  Air Asia  New Delhi      Mumbai    Night            1       5h  2,409   15\n",
       "1  Air Asia  New Delhi      Mumbai  Morning            1       5h  2,409   15\n",
       "2  Air Asia  New Delhi      Mumbai    Night            1       6h  2,409   15\n",
       "3  Air Asia  New Delhi      Mumbai    Night            1      10h  2,409   15\n",
       "4  Air Asia  New Delhi      Mumbai  Morning            1      11h  2,409   15"
      ]
     },
     "execution_count": 23,
     "metadata": {},
     "output_type": "execute_result"
    }
   ],
   "source": [
    "### The duration is in Hours and Minutes, We can convert them into Hours.\n",
    "\n",
    "df['Duration']=df['Duration'].str.split(' ').str[0]\n",
    "df.head()"
   ]
  },
  {
   "cell_type": "code",
   "execution_count": 24,
   "id": "284c3c3d",
   "metadata": {},
   "outputs": [],
   "source": [
    "### We should convert Duration time into integer value.\n",
    "\n",
    "df['Duration']=df['Duration'].str.split('h').str[0]\n",
    "df['Duration']=df['Duration'].astype(int)"
   ]
  },
  {
   "cell_type": "code",
   "execution_count": 25,
   "id": "40398fd4",
   "metadata": {},
   "outputs": [
    {
     "data": {
      "text/html": [
       "<div>\n",
       "<style scoped>\n",
       "    .dataframe tbody tr th:only-of-type {\n",
       "        vertical-align: middle;\n",
       "    }\n",
       "\n",
       "    .dataframe tbody tr th {\n",
       "        vertical-align: top;\n",
       "    }\n",
       "\n",
       "    .dataframe thead th {\n",
       "        text-align: right;\n",
       "    }\n",
       "</style>\n",
       "<table border=\"1\" class=\"dataframe\">\n",
       "  <thead>\n",
       "    <tr style=\"text-align: right;\">\n",
       "      <th></th>\n",
       "      <th>Airline</th>\n",
       "      <th>Source</th>\n",
       "      <th>Destination</th>\n",
       "      <th>Dep_Time</th>\n",
       "      <th>No_of_stops</th>\n",
       "      <th>Duration</th>\n",
       "      <th>Price</th>\n",
       "      <th>date</th>\n",
       "    </tr>\n",
       "  </thead>\n",
       "  <tbody>\n",
       "    <tr>\n",
       "      <th>0</th>\n",
       "      <td>Air Asia</td>\n",
       "      <td>New Delhi</td>\n",
       "      <td>Mumbai</td>\n",
       "      <td>Night</td>\n",
       "      <td>1</td>\n",
       "      <td>5</td>\n",
       "      <td>2,409</td>\n",
       "      <td>15</td>\n",
       "    </tr>\n",
       "    <tr>\n",
       "      <th>1</th>\n",
       "      <td>Air Asia</td>\n",
       "      <td>New Delhi</td>\n",
       "      <td>Mumbai</td>\n",
       "      <td>Morning</td>\n",
       "      <td>1</td>\n",
       "      <td>5</td>\n",
       "      <td>2,409</td>\n",
       "      <td>15</td>\n",
       "    </tr>\n",
       "    <tr>\n",
       "      <th>2</th>\n",
       "      <td>Air Asia</td>\n",
       "      <td>New Delhi</td>\n",
       "      <td>Mumbai</td>\n",
       "      <td>Night</td>\n",
       "      <td>1</td>\n",
       "      <td>6</td>\n",
       "      <td>2,409</td>\n",
       "      <td>15</td>\n",
       "    </tr>\n",
       "    <tr>\n",
       "      <th>3</th>\n",
       "      <td>Air Asia</td>\n",
       "      <td>New Delhi</td>\n",
       "      <td>Mumbai</td>\n",
       "      <td>Night</td>\n",
       "      <td>1</td>\n",
       "      <td>10</td>\n",
       "      <td>2,409</td>\n",
       "      <td>15</td>\n",
       "    </tr>\n",
       "    <tr>\n",
       "      <th>4</th>\n",
       "      <td>Air Asia</td>\n",
       "      <td>New Delhi</td>\n",
       "      <td>Mumbai</td>\n",
       "      <td>Morning</td>\n",
       "      <td>1</td>\n",
       "      <td>11</td>\n",
       "      <td>2,409</td>\n",
       "      <td>15</td>\n",
       "    </tr>\n",
       "  </tbody>\n",
       "</table>\n",
       "</div>"
      ],
      "text/plain": [
       "    Airline     Source Destination Dep_Time  No_of_stops  Duration  Price date\n",
       "0  Air Asia  New Delhi      Mumbai    Night            1         5  2,409   15\n",
       "1  Air Asia  New Delhi      Mumbai  Morning            1         5  2,409   15\n",
       "2  Air Asia  New Delhi      Mumbai    Night            1         6  2,409   15\n",
       "3  Air Asia  New Delhi      Mumbai    Night            1        10  2,409   15\n",
       "4  Air Asia  New Delhi      Mumbai  Morning            1        11  2,409   15"
      ]
     },
     "execution_count": 25,
     "metadata": {},
     "output_type": "execute_result"
    }
   ],
   "source": [
    "df.head()"
   ]
  },
  {
   "cell_type": "code",
   "execution_count": 26,
   "id": "a1f49084",
   "metadata": {},
   "outputs": [],
   "source": [
    "### Dropping source column, since all flights start from new delhi.\n",
    "\n",
    "df.drop(['Source'],axis=1,inplace=True)"
   ]
  },
  {
   "cell_type": "code",
   "execution_count": 27,
   "id": "a809dd86",
   "metadata": {},
   "outputs": [],
   "source": [
    "### Removing ',' in the price column.\n",
    "\n",
    "df['Price']=df['Price'].str.replace(',','')"
   ]
  },
  {
   "cell_type": "code",
   "execution_count": 28,
   "id": "0e229769",
   "metadata": {},
   "outputs": [
    {
     "data": {
      "text/html": [
       "<div>\n",
       "<style scoped>\n",
       "    .dataframe tbody tr th:only-of-type {\n",
       "        vertical-align: middle;\n",
       "    }\n",
       "\n",
       "    .dataframe tbody tr th {\n",
       "        vertical-align: top;\n",
       "    }\n",
       "\n",
       "    .dataframe thead th {\n",
       "        text-align: right;\n",
       "    }\n",
       "</style>\n",
       "<table border=\"1\" class=\"dataframe\">\n",
       "  <thead>\n",
       "    <tr style=\"text-align: right;\">\n",
       "      <th></th>\n",
       "      <th>Airline</th>\n",
       "      <th>Destination</th>\n",
       "      <th>Dep_Time</th>\n",
       "      <th>No_of_stops</th>\n",
       "      <th>Duration</th>\n",
       "      <th>Price</th>\n",
       "      <th>date</th>\n",
       "    </tr>\n",
       "  </thead>\n",
       "  <tbody>\n",
       "    <tr>\n",
       "      <th>0</th>\n",
       "      <td>Air Asia</td>\n",
       "      <td>Mumbai</td>\n",
       "      <td>Night</td>\n",
       "      <td>1</td>\n",
       "      <td>5</td>\n",
       "      <td>2409</td>\n",
       "      <td>15</td>\n",
       "    </tr>\n",
       "    <tr>\n",
       "      <th>1</th>\n",
       "      <td>Air Asia</td>\n",
       "      <td>Mumbai</td>\n",
       "      <td>Morning</td>\n",
       "      <td>1</td>\n",
       "      <td>5</td>\n",
       "      <td>2409</td>\n",
       "      <td>15</td>\n",
       "    </tr>\n",
       "    <tr>\n",
       "      <th>2</th>\n",
       "      <td>Air Asia</td>\n",
       "      <td>Mumbai</td>\n",
       "      <td>Night</td>\n",
       "      <td>1</td>\n",
       "      <td>6</td>\n",
       "      <td>2409</td>\n",
       "      <td>15</td>\n",
       "    </tr>\n",
       "    <tr>\n",
       "      <th>3</th>\n",
       "      <td>Air Asia</td>\n",
       "      <td>Mumbai</td>\n",
       "      <td>Night</td>\n",
       "      <td>1</td>\n",
       "      <td>10</td>\n",
       "      <td>2409</td>\n",
       "      <td>15</td>\n",
       "    </tr>\n",
       "    <tr>\n",
       "      <th>4</th>\n",
       "      <td>Air Asia</td>\n",
       "      <td>Mumbai</td>\n",
       "      <td>Morning</td>\n",
       "      <td>1</td>\n",
       "      <td>11</td>\n",
       "      <td>2409</td>\n",
       "      <td>15</td>\n",
       "    </tr>\n",
       "  </tbody>\n",
       "</table>\n",
       "</div>"
      ],
      "text/plain": [
       "    Airline Destination Dep_Time  No_of_stops  Duration Price date\n",
       "0  Air Asia      Mumbai    Night            1         5  2409   15\n",
       "1  Air Asia      Mumbai  Morning            1         5  2409   15\n",
       "2  Air Asia      Mumbai    Night            1         6  2409   15\n",
       "3  Air Asia      Mumbai    Night            1        10  2409   15\n",
       "4  Air Asia      Mumbai  Morning            1        11  2409   15"
      ]
     },
     "execution_count": 28,
     "metadata": {},
     "output_type": "execute_result"
    }
   ],
   "source": [
    "df.head()"
   ]
  },
  {
   "cell_type": "code",
   "execution_count": 29,
   "id": "fed4bcc3",
   "metadata": {},
   "outputs": [],
   "source": [
    "df['Price']=df['Price'].astype(int)"
   ]
  },
  {
   "cell_type": "code",
   "execution_count": 30,
   "id": "6c4725c3",
   "metadata": {},
   "outputs": [
    {
     "data": {
      "text/plain": [
       "<AxesSubplot:xlabel='Airline', ylabel='Price'>"
      ]
     },
     "execution_count": 30,
     "metadata": {},
     "output_type": "execute_result"
    },
    {
     "data": {
      "image/png": "[encoded data removed]",
      "text/plain": [
       "<Figure size 1440x360 with 1 Axes>"
      ]
     },
     "metadata": {
      "needs_background": "light"
     },
     "output_type": "display_data"
    }
   ],
   "source": [
    "plt.figure(figsize=(20,5))\n",
    "sns.lineplot(df['Airline'],df['Price'])"
   ]
  },
  {
   "cell_type": "markdown",
   "id": "2f4d822c",
   "metadata": {},
   "source": [
    "### Go First and Vistara are the costliest airlines."
   ]
  },
  {
   "cell_type": "code",
   "execution_count": 31,
   "id": "64adb519",
   "metadata": {},
   "outputs": [
    {
     "data": {
      "text/plain": [
       "<AxesSubplot:xlabel='Airline', ylabel='count'>"
      ]
     },
     "execution_count": 31,
     "metadata": {},
     "output_type": "execute_result"
    },
    {
     "data": {
      "image/png": "[encoded data removed]",
      "text/plain": [
       "<Figure size 432x288 with 1 Axes>"
      ]
     },
     "metadata": {
      "needs_background": "light"
     },
     "output_type": "display_data"
    }
   ],
   "source": [
    "sns.countplot(df['Airline'])"
   ]
  },
  {
   "cell_type": "markdown",
   "id": "360bef20",
   "metadata": {},
   "source": [
    "### Number of Air India and IndiGo flights are more."
   ]
  },
  {
   "cell_type": "code",
   "execution_count": 32,
   "id": "a0acfd00",
   "metadata": {},
   "outputs": [
    {
     "data": {
      "text/plain": [
       "<AxesSubplot:xlabel='date', ylabel='Price'>"
      ]
     },
     "execution_count": 32,
     "metadata": {},
     "output_type": "execute_result"
    },
    {
     "data": {
      "image/png": "[encoded data removed]",
      "text/plain": [
       "<Figure size 1440x360 with 1 Axes>"
      ]
     },
     "metadata": {
      "needs_background": "light"
     },
     "output_type": "display_data"
    }
   ],
   "source": [
    "plt.figure(figsize=(20,5))\n",
    "sns.lineplot(df['date'],df['Price'])"
   ]
  },
  {
   "cell_type": "markdown",
   "id": "0122c40c",
   "metadata": {},
   "source": [
    "### The flights on March 22nd are cheaper than rates on March 15th"
   ]
  },
  {
   "cell_type": "code",
   "execution_count": 33,
   "id": "491f4948",
   "metadata": {},
   "outputs": [
    {
     "data": {
      "text/plain": [
       "<AxesSubplot:xlabel='Price', ylabel='Count'>"
      ]
     },
     "execution_count": 33,
     "metadata": {},
     "output_type": "execute_result"
    },
    {
     "data": {
      "image/png": "[encoded data removed]",
      "text/plain": [
       "<Figure size 1080x504 with 1 Axes>"
      ]
     },
     "metadata": {
      "needs_background": "light"
     },
     "output_type": "display_data"
    }
   ],
   "source": [
    "plt.figure(figsize=(15,7))\n",
    "sns.histplot(df['Price'],bins=50)"
   ]
  },
  {
   "cell_type": "markdown",
   "id": "7cb01dae",
   "metadata": {},
   "source": [
    "### Most of the Ticket prices are in the range of 4000 - 6000."
   ]
  },
  {
   "cell_type": "code",
   "execution_count": 34,
   "id": "3c46fcad",
   "metadata": {},
   "outputs": [
    {
     "data": {
      "text/plain": [
       "<AxesSubplot:xlabel='Destination', ylabel='count'>"
      ]
     },
     "execution_count": 34,
     "metadata": {},
     "output_type": "execute_result"
    },
    {
     "data": {
      "image/png": "[encoded data removed]",
      "text/plain": [
       "<Figure size 432x288 with 1 Axes>"
      ]
     },
     "metadata": {
      "needs_background": "light"
     },
     "output_type": "display_data"
    }
   ],
   "source": [
    "sns.countplot(df['Destination'])"
   ]
  },
  {
   "cell_type": "markdown",
   "id": "3c82a128",
   "metadata": {},
   "source": [
    "### There are more flights to Bangalore and Chennai from Delhi."
   ]
  },
  {
   "cell_type": "code",
   "execution_count": 35,
   "id": "44667b06",
   "metadata": {},
   "outputs": [
    {
     "data": {
      "text/plain": [
       "<AxesSubplot:xlabel='Dep_Time', ylabel='count'>"
      ]
     },
     "execution_count": 35,
     "metadata": {},
     "output_type": "execute_result"
    },
    {
     "data": {
      "image/png": "[encoded data removed]",
      "text/plain": [
       "<Figure size 432x288 with 1 Axes>"
      ]
     },
     "metadata": {
      "needs_background": "light"
     },
     "output_type": "display_data"
    }
   ],
   "source": [
    "sns.countplot(df['Dep_Time'])"
   ]
  },
  {
   "cell_type": "markdown",
   "id": "34befbb8",
   "metadata": {},
   "source": [
    "### There are more flights in Day Time."
   ]
  },
  {
   "cell_type": "code",
   "execution_count": 36,
   "id": "7cb9277f",
   "metadata": {},
   "outputs": [
    {
     "data": {
      "text/plain": [
       "<AxesSubplot:xlabel='Dep_Time', ylabel='Price'>"
      ]
     },
     "execution_count": 36,
     "metadata": {},
     "output_type": "execute_result"
    },
    {
     "data": {
      "image/png": "[encoded data removed]",
      "text/plain": [
       "<Figure size 432x288 with 1 Axes>"
      ]
     },
     "metadata": {
      "needs_background": "light"
     },
     "output_type": "display_data"
    }
   ],
   "source": [
    "sns.lineplot(df['Dep_Time'],df['Price'])"
   ]
  },
  {
   "cell_type": "markdown",
   "id": "4412a5ff",
   "metadata": {},
   "source": [
    "### The flight ticket prices at night time are cheaper. "
   ]
  },
  {
   "cell_type": "markdown",
   "id": "ab2db391",
   "metadata": {},
   "source": [
    "## Outliers Removal"
   ]
  },
  {
   "cell_type": "code",
   "execution_count": 37,
   "id": "20838482",
   "metadata": {},
   "outputs": [],
   "source": [
    "t=['Price']\n",
    "for i in t:\n",
    "    Q1=df[i].quantile(0.25)\n",
    "    Q3=df[i].quantile(0.75)\n",
    "    IQR=Q3-Q1\n",
    "    Q1 = df[i].quantile(0.25)\n",
    "    Q3 = df[i].quantile(0.75)\n",
    "    IQR = Q3 - Q1\n",
    "    whisker_width = 1.5\n",
    "    outliers = df[(df[i] < Q1 - whisker_width*IQR) | (df[i] > Q3 + whisker_width*IQR)]\n",
    "    \n",
    "    fare_mean = df[i].mean()\n",
    "    fare_std = df[i].std()\n",
    "    low= fare_mean -(3 * fare_std)\n",
    "    high= fare_mean + (3 * fare_std)\n",
    "    fare_outliers = df[(df[i] < low) | (df[i] > high)]\n",
    "    \n",
    "    Q1 = df[i].quantile(0.25)\n",
    "    Q3 = df[i].quantile(0.75)\n",
    "    IQR = Q3 - Q1\n",
    "    whisker_width = 1.5\n",
    "    lower_whisker = Q1 -(whisker_width*IQR)\n",
    "    upper_whisker = Q3 +(whisker_width*IQR)\n",
    "    df[i]=np.where(df[i]>upper_whisker,upper_whisker,np.where(df[i]<lower_whisker,lower_whisker,df[i]))"
   ]
  },
  {
   "cell_type": "markdown",
   "id": "436bcaf9",
   "metadata": {},
   "source": [
    "### Instead of eliminating the outliers, we have replaced the outliers higher than the upper whisker by the value of upper whisker and the outliers lower than the lower whisker by the value of lower whisker"
   ]
  },
  {
   "cell_type": "markdown",
   "id": "5a8fae69",
   "metadata": {},
   "source": [
    "## Encoding"
   ]
  },
  {
   "cell_type": "code",
   "execution_count": 38,
   "id": "216a2cf3",
   "metadata": {},
   "outputs": [],
   "source": [
    "from sklearn.preprocessing import LabelEncoder\n",
    "lab=LabelEncoder()\n",
    "li=['Airline','Destination','Dep_Time','date']\n",
    "for i in li:\n",
    "    df[i]=lab.fit_transform(df[i].values.reshape(-1,1))"
   ]
  },
  {
   "cell_type": "code",
   "execution_count": 39,
   "id": "70cb877e",
   "metadata": {},
   "outputs": [
    {
     "data": {
      "text/html": [
       "<div>\n",
       "<style scoped>\n",
       "    .dataframe tbody tr th:only-of-type {\n",
       "        vertical-align: middle;\n",
       "    }\n",
       "\n",
       "    .dataframe tbody tr th {\n",
       "        vertical-align: top;\n",
       "    }\n",
       "\n",
       "    .dataframe thead th {\n",
       "        text-align: right;\n",
       "    }\n",
       "</style>\n",
       "<table border=\"1\" class=\"dataframe\">\n",
       "  <thead>\n",
       "    <tr style=\"text-align: right;\">\n",
       "      <th></th>\n",
       "      <th>Airline</th>\n",
       "      <th>Destination</th>\n",
       "      <th>Dep_Time</th>\n",
       "      <th>No_of_stops</th>\n",
       "      <th>Duration</th>\n",
       "      <th>Price</th>\n",
       "      <th>date</th>\n",
       "    </tr>\n",
       "  </thead>\n",
       "  <tbody>\n",
       "    <tr>\n",
       "      <th>0</th>\n",
       "      <td>0</td>\n",
       "      <td>4</td>\n",
       "      <td>3</td>\n",
       "      <td>1</td>\n",
       "      <td>5</td>\n",
       "      <td>2409.0</td>\n",
       "      <td>0</td>\n",
       "    </tr>\n",
       "    <tr>\n",
       "      <th>1</th>\n",
       "      <td>0</td>\n",
       "      <td>4</td>\n",
       "      <td>2</td>\n",
       "      <td>1</td>\n",
       "      <td>5</td>\n",
       "      <td>2409.0</td>\n",
       "      <td>0</td>\n",
       "    </tr>\n",
       "    <tr>\n",
       "      <th>2</th>\n",
       "      <td>0</td>\n",
       "      <td>4</td>\n",
       "      <td>3</td>\n",
       "      <td>1</td>\n",
       "      <td>6</td>\n",
       "      <td>2409.0</td>\n",
       "      <td>0</td>\n",
       "    </tr>\n",
       "    <tr>\n",
       "      <th>3</th>\n",
       "      <td>0</td>\n",
       "      <td>4</td>\n",
       "      <td>3</td>\n",
       "      <td>1</td>\n",
       "      <td>10</td>\n",
       "      <td>2409.0</td>\n",
       "      <td>0</td>\n",
       "    </tr>\n",
       "    <tr>\n",
       "      <th>4</th>\n",
       "      <td>0</td>\n",
       "      <td>4</td>\n",
       "      <td>2</td>\n",
       "      <td>1</td>\n",
       "      <td>11</td>\n",
       "      <td>2409.0</td>\n",
       "      <td>0</td>\n",
       "    </tr>\n",
       "  </tbody>\n",
       "</table>\n",
       "</div>"
      ],
      "text/plain": [
       "   Airline  Destination  Dep_Time  No_of_stops  Duration   Price  date\n",
       "0        0            4         3            1         5  2409.0     0\n",
       "1        0            4         2            1         5  2409.0     0\n",
       "2        0            4         3            1         6  2409.0     0\n",
       "3        0            4         3            1        10  2409.0     0\n",
       "4        0            4         2            1        11  2409.0     0"
      ]
     },
     "execution_count": 39,
     "metadata": {},
     "output_type": "execute_result"
    }
   ],
   "source": [
    "df.head()"
   ]
  },
  {
   "cell_type": "code",
   "execution_count": 40,
   "id": "1b799d18",
   "metadata": {},
   "outputs": [
    {
     "data": {
      "text/plain": [
       "<AxesSubplot:>"
      ]
     },
     "execution_count": 40,
     "metadata": {},
     "output_type": "execute_result"
    },
    {
     "data": {
      "image/png": "[encoded data removed]",
      "text/plain": [
       "<Figure size 720x432 with 2 Axes>"
      ]
     },
     "metadata": {
      "needs_background": "light"
     },
     "output_type": "display_data"
    }
   ],
   "source": [
    "cor=df.corr()\n",
    "plt.figure(figsize=(10,6))\n",
    "sns.heatmap(cor,annot=True)"
   ]
  },
  {
   "cell_type": "code",
   "execution_count": 41,
   "id": "e419e521",
   "metadata": {},
   "outputs": [],
   "source": [
    "df.drop(['Duration'],axis=1,inplace=True)"
   ]
  },
  {
   "cell_type": "markdown",
   "id": "1f963c18",
   "metadata": {},
   "source": [
    "### Price is mostly depends on Airline, Number of stops and Duration."
   ]
  },
  {
   "cell_type": "code",
   "execution_count": 42,
   "id": "21faefea",
   "metadata": {},
   "outputs": [],
   "source": [
    "x=df.drop(['Price'],axis=1)\n",
    "y=df['Price']"
   ]
  },
  {
   "cell_type": "markdown",
   "id": "8ff8d0d0",
   "metadata": {},
   "source": [
    "## Scaling"
   ]
  },
  {
   "cell_type": "code",
   "execution_count": 43,
   "id": "b3875612",
   "metadata": {},
   "outputs": [
    {
     "data": {
      "text/html": [
       "<div>\n",
       "<style scoped>\n",
       "    .dataframe tbody tr th:only-of-type {\n",
       "        vertical-align: middle;\n",
       "    }\n",
       "\n",
       "    .dataframe tbody tr th {\n",
       "        vertical-align: top;\n",
       "    }\n",
       "\n",
       "    .dataframe thead th {\n",
       "        text-align: right;\n",
       "    }\n",
       "</style>\n",
       "<table border=\"1\" class=\"dataframe\">\n",
       "  <thead>\n",
       "    <tr style=\"text-align: right;\">\n",
       "      <th></th>\n",
       "      <th>Airline</th>\n",
       "      <th>Destination</th>\n",
       "      <th>Dep_Time</th>\n",
       "      <th>No_of_stops</th>\n",
       "      <th>date</th>\n",
       "    </tr>\n",
       "  </thead>\n",
       "  <tbody>\n",
       "    <tr>\n",
       "      <th>0</th>\n",
       "      <td>-1.582288</td>\n",
       "      <td>1.423674</td>\n",
       "      <td>1.226519</td>\n",
       "      <td>0.220121</td>\n",
       "      <td>-0.981161</td>\n",
       "    </tr>\n",
       "    <tr>\n",
       "      <th>1</th>\n",
       "      <td>-1.582288</td>\n",
       "      <td>1.423674</td>\n",
       "      <td>0.362175</td>\n",
       "      <td>0.220121</td>\n",
       "      <td>-0.981161</td>\n",
       "    </tr>\n",
       "    <tr>\n",
       "      <th>2</th>\n",
       "      <td>-1.582288</td>\n",
       "      <td>1.423674</td>\n",
       "      <td>1.226519</td>\n",
       "      <td>0.220121</td>\n",
       "      <td>-0.981161</td>\n",
       "    </tr>\n",
       "    <tr>\n",
       "      <th>3</th>\n",
       "      <td>-1.582288</td>\n",
       "      <td>1.423674</td>\n",
       "      <td>1.226519</td>\n",
       "      <td>0.220121</td>\n",
       "      <td>-0.981161</td>\n",
       "    </tr>\n",
       "    <tr>\n",
       "      <th>4</th>\n",
       "      <td>-1.582288</td>\n",
       "      <td>1.423674</td>\n",
       "      <td>0.362175</td>\n",
       "      <td>0.220121</td>\n",
       "      <td>-0.981161</td>\n",
       "    </tr>\n",
       "  </tbody>\n",
       "</table>\n",
       "</div>"
      ],
      "text/plain": [
       "    Airline  Destination  Dep_Time  No_of_stops      date\n",
       "0 -1.582288     1.423674  1.226519     0.220121 -0.981161\n",
       "1 -1.582288     1.423674  0.362175     0.220121 -0.981161\n",
       "2 -1.582288     1.423674  1.226519     0.220121 -0.981161\n",
       "3 -1.582288     1.423674  1.226519     0.220121 -0.981161\n",
       "4 -1.582288     1.423674  0.362175     0.220121 -0.981161"
      ]
     },
     "execution_count": 43,
     "metadata": {},
     "output_type": "execute_result"
    }
   ],
   "source": [
    "from sklearn.preprocessing import StandardScaler\n",
    "scaler=StandardScaler()\n",
    "x=pd.DataFrame(scaler.fit_transform(x),columns=x.columns)\n",
    "x.head()"
   ]
  },
  {
   "cell_type": "code",
   "execution_count": 44,
   "id": "0073fbb7",
   "metadata": {},
   "outputs": [
    {
     "data": {
      "text/html": [
       "<div>\n",
       "<style scoped>\n",
       "    .dataframe tbody tr th:only-of-type {\n",
       "        vertical-align: middle;\n",
       "    }\n",
       "\n",
       "    .dataframe tbody tr th {\n",
       "        vertical-align: top;\n",
       "    }\n",
       "\n",
       "    .dataframe thead th {\n",
       "        text-align: right;\n",
       "    }\n",
       "</style>\n",
       "<table border=\"1\" class=\"dataframe\">\n",
       "  <thead>\n",
       "    <tr style=\"text-align: right;\">\n",
       "      <th></th>\n",
       "      <th>vif</th>\n",
       "      <th>col</th>\n",
       "    </tr>\n",
       "  </thead>\n",
       "  <tbody>\n",
       "    <tr>\n",
       "      <th>0</th>\n",
       "      <td>1.042974</td>\n",
       "      <td>Airline</td>\n",
       "    </tr>\n",
       "    <tr>\n",
       "      <th>1</th>\n",
       "      <td>1.025100</td>\n",
       "      <td>Destination</td>\n",
       "    </tr>\n",
       "    <tr>\n",
       "      <th>2</th>\n",
       "      <td>1.046835</td>\n",
       "      <td>Dep_Time</td>\n",
       "    </tr>\n",
       "    <tr>\n",
       "      <th>3</th>\n",
       "      <td>1.048567</td>\n",
       "      <td>No_of_stops</td>\n",
       "    </tr>\n",
       "    <tr>\n",
       "      <th>4</th>\n",
       "      <td>1.000421</td>\n",
       "      <td>date</td>\n",
       "    </tr>\n",
       "  </tbody>\n",
       "</table>\n",
       "</div>"
      ],
      "text/plain": [
       "        vif          col\n",
       "0  1.042974      Airline\n",
       "1  1.025100  Destination\n",
       "2  1.046835     Dep_Time\n",
       "3  1.048567  No_of_stops\n",
       "4  1.000421         date"
      ]
     },
     "execution_count": 44,
     "metadata": {},
     "output_type": "execute_result"
    }
   ],
   "source": [
    "from statsmodels.stats.outliers_influence import variance_inflation_factor\n",
    "vif=pd.DataFrame()\n",
    "vif['vif']=[variance_inflation_factor(x.values,i) for i in range(len(x.columns))]\n",
    "vif['col']=x.columns\n",
    "vif"
   ]
  },
  {
   "cell_type": "markdown",
   "id": "5b9cec26",
   "metadata": {},
   "source": [
    "### Here for all the columns, VIF score is less than 5. Therefore, Multi-Collinearity is not there."
   ]
  },
  {
   "cell_type": "markdown",
   "id": "da0f124a",
   "metadata": {},
   "source": [
    "## Choosing Random State Value"
   ]
  },
  {
   "cell_type": "code",
   "execution_count": 45,
   "id": "091e76d4",
   "metadata": {},
   "outputs": [
    {
     "name": "stdout",
     "output_type": "stream",
     "text": [
      "max r2= 0.42636336673455666 ran state= 113\n"
     ]
    }
   ],
   "source": [
    "from sklearn.model_selection import train_test_split\n",
    "from sklearn.linear_model import LinearRegression\n",
    "from sklearn.metrics import r2_score\n",
    "maxr2=0\n",
    "maxran=0\n",
    "for i in range(1,200):\n",
    "    x_train,x_test,y_train,y_test=train_test_split(x,y,test_size=0.15,random_state=i)\n",
    "    lr=LinearRegression()\n",
    "    lr.fit(x_train,y_train)\n",
    "    pred=lr.predict(x_test)\n",
    "    r2=r2_score(y_test,pred)\n",
    "    if r2>maxr2:\n",
    "        maxr2=r2\n",
    "        maxran=i\n",
    "print('max r2=',maxr2,'ran state=',maxran)"
   ]
  },
  {
   "cell_type": "code",
   "execution_count": 46,
   "id": "df372743",
   "metadata": {},
   "outputs": [],
   "source": [
    "x_train,x_test,y_train,y_test=train_test_split(x,y,test_size=0.15,random_state=maxran)"
   ]
  },
  {
   "cell_type": "markdown",
   "id": "addbfb9d",
   "metadata": {},
   "source": [
    "## Model Selection with Hyper Parameter Tuning"
   ]
  },
  {
   "cell_type": "code",
   "execution_count": 47,
   "id": "a2763707",
   "metadata": {},
   "outputs": [],
   "source": [
    "from sklearn.model_selection import GridSearchCV"
   ]
  },
  {
   "cell_type": "markdown",
   "id": "e6e95452",
   "metadata": {},
   "source": [
    "### Lasso Regression"
   ]
  },
  {
   "cell_type": "code",
   "execution_count": 48,
   "id": "2436a050",
   "metadata": {},
   "outputs": [
    {
     "name": "stdout",
     "output_type": "stream",
     "text": [
      "{'alpha': 10, 'fit_intercept': True, 'random_state': 4, 'selection': 'random'}\n"
     ]
    }
   ],
   "source": [
    "from sklearn.linear_model import Lasso\n",
    "\n",
    "parameters={'alpha':[.0001, .001, .01, .1, 1, 10],'random_state':list(range(0,10)),'fit_intercept':[True,False],'selection':['cyclic', 'random']}\n",
    "ls = Lasso()\n",
    "clf = GridSearchCV(ls,parameters)\n",
    "clf.fit(x_train,y_train)\n",
    "\n",
    "print(clf.best_params_)"
   ]
  },
  {
   "cell_type": "code",
   "execution_count": 49,
   "id": "adcdec5d",
   "metadata": {},
   "outputs": [
    {
     "data": {
      "text/plain": [
       "42.491557585151476"
      ]
     },
     "execution_count": 49,
     "metadata": {},
     "output_type": "execute_result"
    }
   ],
   "source": [
    "ls = Lasso(alpha=10,fit_intercept=True,random_state=4,selection='random')\n",
    "ls.fit(x_train,y_train)\n",
    "pred=ls.predict(x_test)\n",
    "r2=r2_score(y_test,pred)\n",
    "a1=r2*100\n",
    "a1"
   ]
  },
  {
   "cell_type": "markdown",
   "id": "c1b891bc",
   "metadata": {},
   "source": [
    "### Ridge Regression"
   ]
  },
  {
   "cell_type": "code",
   "execution_count": 50,
   "id": "ae7f9774",
   "metadata": {},
   "outputs": [
    {
     "name": "stdout",
     "output_type": "stream",
     "text": [
      "{'alpha': 0.01, 'copy_X': True, 'max_iter': 1, 'normalize': True}\n"
     ]
    }
   ],
   "source": [
    "from sklearn.linear_model import Ridge\n",
    "\n",
    "parameters = {'alpha':[.0001, .001, .01, .1, 1],'max_iter':list(range(1,11)),'normalize':[True,False],'copy_X':[True,False]}\n",
    "rd = Ridge()\n",
    "clf = GridSearchCV(rd,parameters)\n",
    "clf.fit(x_train,y_train)\n",
    "\n",
    "print(clf.best_params_)"
   ]
  },
  {
   "cell_type": "code",
   "execution_count": 51,
   "id": "cb9bf645",
   "metadata": {},
   "outputs": [
    {
     "data": {
      "text/plain": [
       "42.57419998270914"
      ]
     },
     "execution_count": 51,
     "metadata": {},
     "output_type": "execute_result"
    }
   ],
   "source": [
    "rd = Ridge(alpha=0.01,copy_X=True,max_iter=1,normalize=True)\n",
    "rd.fit(x_train,y_train)\n",
    "pred=rd.predict(x_test)\n",
    "r2=r2_score(y_test,pred)\n",
    "a2=r2*100\n",
    "a2"
   ]
  },
  {
   "cell_type": "markdown",
   "id": "7e9a71c1",
   "metadata": {},
   "source": [
    "### Decision Tree Regression"
   ]
  },
  {
   "cell_type": "code",
   "execution_count": 52,
   "id": "b1ad5317",
   "metadata": {},
   "outputs": [
    {
     "name": "stdout",
     "output_type": "stream",
     "text": [
      "{'criterion': 'friedman_mse', 'max_depth': 7, 'max_features': 'auto', 'max_leaf_nodes': 50, 'splitter': 'best'}\n"
     ]
    }
   ],
   "source": [
    "from sklearn.tree import DecisionTreeRegressor\n",
    "parameters={'criterion':['squared_error', 'friedman_mse', 'absolute_error', 'poisson'],'splitter':['best', 'random'],\n",
    "            'max_depth':list(range(1,15,2)),'max_features':['auto', 'sqrt', 'log2'],\n",
    "           'max_leaf_nodes':[None,10,20,30,40,50,60,70,80,90]}\n",
    "dtr=DecisionTreeRegressor()\n",
    "clf = GridSearchCV(dtr,parameters)\n",
    "clf.fit(x_train,y_train)\n",
    "\n",
    "print(clf.best_params_)"
   ]
  },
  {
   "cell_type": "code",
   "execution_count": 53,
   "id": "aeff9c8e",
   "metadata": {},
   "outputs": [
    {
     "data": {
      "text/plain": [
       "60.3373062437073"
      ]
     },
     "execution_count": 53,
     "metadata": {},
     "output_type": "execute_result"
    }
   ],
   "source": [
    "dtr = DecisionTreeRegressor(criterion='friedman_mse',max_depth=7,max_features='auto',splitter='best',max_leaf_nodes=50)\n",
    "dtr.fit(x_train,y_train)\n",
    "pred=dtr.predict(x_test)\n",
    "r2=r2_score(y_test,pred)\n",
    "a3=r2*100\n",
    "a3"
   ]
  },
  {
   "cell_type": "markdown",
   "id": "0c8da904",
   "metadata": {},
   "source": [
    "## Cross Validation"
   ]
  },
  {
   "cell_type": "code",
   "execution_count": 60,
   "id": "c8d3ff6f",
   "metadata": {},
   "outputs": [],
   "source": [
    "from sklearn.model_selection import cross_val_score\n",
    "cv1=(cross_val_score(ls,x,y,cv=5).mean())*100\n",
    "cv2=(cross_val_score(rd,x,y,cv=5).mean())*100\n",
    "cv3=(cross_val_score(dtr,x,y,cv=5).mean())*100"
   ]
  },
  {
   "cell_type": "code",
   "execution_count": 61,
   "id": "35e2df64",
   "metadata": {},
   "outputs": [
    {
     "name": "stdout",
     "output_type": "stream",
     "text": [
      "4.514137432067476 3.6528600171527903 -4.935478523029533\n"
     ]
    }
   ],
   "source": [
    "print(cv1,cv2,cv3)"
   ]
  },
  {
   "cell_type": "code",
   "execution_count": 62,
   "id": "d82b13c4",
   "metadata": {},
   "outputs": [
    {
     "name": "stdout",
     "output_type": "stream",
     "text": [
      "37.977420153084 38.92133996555635 65.27278476673683\n"
     ]
    }
   ],
   "source": [
    "print((a1-cv1),(a2-cv2),(a3-cv3))"
   ]
  },
  {
   "cell_type": "markdown",
   "id": "6520aee8",
   "metadata": {},
   "source": [
    "### We can choose Decision Tree Regressor as our model, since its r2 score and cv_score has least difference."
   ]
  },
  {
   "cell_type": "code",
   "execution_count": 63,
   "id": "3fd14a5d",
   "metadata": {},
   "outputs": [
    {
     "data": {
      "text/plain": [
       "42.491557585151476"
      ]
     },
     "execution_count": 63,
     "metadata": {},
     "output_type": "execute_result"
    }
   ],
   "source": [
    "fin_las = Lasso(alpha=10,fit_intercept=True,random_state=4,selection='random')\n",
    "fin_las.fit(x_train,y_train)\n",
    "pred=fin_las.predict(x_test)\n",
    "r2=r2_score(y_test,pred)\n",
    "fin_r2=r2*100\n",
    "fin_r2"
   ]
  },
  {
   "cell_type": "code",
   "execution_count": 64,
   "id": "4649ca45",
   "metadata": {},
   "outputs": [
    {
     "data": {
      "text/plain": [
       "<matplotlib.collections.PathCollection at 0x125918bf250>"
      ]
     },
     "execution_count": 64,
     "metadata": {},
     "output_type": "execute_result"
    },
    {
     "data": {
      "image/png": "[encoded data removed]",
      "text/plain": [
       "<Figure size 432x288 with 1 Axes>"
      ]
     },
     "metadata": {
      "needs_background": "light"
     },
     "output_type": "display_data"
    }
   ],
   "source": [
    "## checking predicted y and labeled y using a scatter plot.\n",
    "\n",
    "plt.scatter(y_test,pred)"
   ]
  },
  {
   "cell_type": "code",
   "execution_count": 66,
   "id": "02adb2f9",
   "metadata": {},
   "outputs": [
    {
     "name": "stdout",
     "output_type": "stream",
     "text": [
      "MAE: 1109.8694733742218\n",
      "MSE: 1920809.9743112088\n",
      "RMSE: 1385.9328895409074\n"
     ]
    }
   ],
   "source": [
    "from sklearn import metrics\n",
    "\n",
    "print('MAE:', metrics.mean_absolute_error(y_test,pred))\n",
    "print('MSE:', metrics.mean_squared_error(y_test,pred))\n",
    "print('RMSE:', np.sqrt(metrics.mean_squared_error(y_test,pred)))"
   ]
  },
  {
   "cell_type": "code",
   "execution_count": null,
   "id": "ac803817",
   "metadata": {},
   "outputs": [],
   "source": []
  },
  {
   "cell_type": "code",
   "execution_count": null,
   "id": "861b7fd7",
   "metadata": {},
   "outputs": [],
   "source": []
  }
 ],
 "metadata": {
  "kernelspec": {
   "display_name": "Python 3",
   "language": "python",
   "name": "python3"
  },
  "language_info": {
   "codemirror_mode": {
    "name": "ipython",
    "version": 3
   },
   "file_extension": ".py",
   "mimetype": "text/x-python",
   "name": "python",
   "nbconvert_exporter": "python",
   "pygments_lexer": "ipython3",
   "version": "3.8.8"
  }
 },
 "nbformat": 4,
 "nbformat_minor": 5
}
